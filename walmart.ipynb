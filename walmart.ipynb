{
 "cells": [
  {
   "cell_type": "code",
   "execution_count": 118,
   "id": "00e00f1b",
   "metadata": {},
   "outputs": [],
   "source": [
    "import pandas as pd\n",
    "import numpy as np\n",
    "import matplotlib.pyplot as plt\n",
    "import seaborn as sns \n",
    "from scipy.stats import binom,poisson,geom,expon,norm"
   ]
  },
  {
   "cell_type": "code",
   "execution_count": 2,
   "id": "1ddc3770",
   "metadata": {},
   "outputs": [],
   "source": [
    "wal = pd.read_csv('https://d2beiqkhq929f0.cloudfront.net/public_assets/assets/000/001/293/original/walmart_data.csv?1641285094')"
   ]
  },
  {
   "cell_type": "code",
   "execution_count": 13,
   "id": "a0c48ae5",
   "metadata": {},
   "outputs": [
    {
     "data": {
      "text/html": [
       "<div>\n",
       "<style scoped>\n",
       "    .dataframe tbody tr th:only-of-type {\n",
       "        vertical-align: middle;\n",
       "    }\n",
       "\n",
       "    .dataframe tbody tr th {\n",
       "        vertical-align: top;\n",
       "    }\n",
       "\n",
       "    .dataframe thead th {\n",
       "        text-align: right;\n",
       "    }\n",
       "</style>\n",
       "<table border=\"1\" class=\"dataframe\">\n",
       "  <thead>\n",
       "    <tr style=\"text-align: right;\">\n",
       "      <th></th>\n",
       "      <th>User_ID</th>\n",
       "      <th>Product_ID</th>\n",
       "      <th>Gender</th>\n",
       "      <th>Age</th>\n",
       "      <th>Occupation</th>\n",
       "      <th>City_Category</th>\n",
       "      <th>Stay_In_Current_City_Years</th>\n",
       "      <th>Marital_Status</th>\n",
       "      <th>Product_Category</th>\n",
       "      <th>Purchase</th>\n",
       "    </tr>\n",
       "  </thead>\n",
       "  <tbody>\n",
       "    <tr>\n",
       "      <th>550063</th>\n",
       "      <td>1006033</td>\n",
       "      <td>P00372445</td>\n",
       "      <td>M</td>\n",
       "      <td>51-55</td>\n",
       "      <td>13</td>\n",
       "      <td>B</td>\n",
       "      <td>1</td>\n",
       "      <td>1</td>\n",
       "      <td>20</td>\n",
       "      <td>368</td>\n",
       "    </tr>\n",
       "    <tr>\n",
       "      <th>550064</th>\n",
       "      <td>1006035</td>\n",
       "      <td>P00375436</td>\n",
       "      <td>F</td>\n",
       "      <td>26-35</td>\n",
       "      <td>1</td>\n",
       "      <td>C</td>\n",
       "      <td>3</td>\n",
       "      <td>0</td>\n",
       "      <td>20</td>\n",
       "      <td>371</td>\n",
       "    </tr>\n",
       "    <tr>\n",
       "      <th>550065</th>\n",
       "      <td>1006036</td>\n",
       "      <td>P00375436</td>\n",
       "      <td>F</td>\n",
       "      <td>26-35</td>\n",
       "      <td>15</td>\n",
       "      <td>B</td>\n",
       "      <td>4+</td>\n",
       "      <td>1</td>\n",
       "      <td>20</td>\n",
       "      <td>137</td>\n",
       "    </tr>\n",
       "    <tr>\n",
       "      <th>550066</th>\n",
       "      <td>1006038</td>\n",
       "      <td>P00375436</td>\n",
       "      <td>F</td>\n",
       "      <td>55+</td>\n",
       "      <td>1</td>\n",
       "      <td>C</td>\n",
       "      <td>2</td>\n",
       "      <td>0</td>\n",
       "      <td>20</td>\n",
       "      <td>365</td>\n",
       "    </tr>\n",
       "    <tr>\n",
       "      <th>550067</th>\n",
       "      <td>1006039</td>\n",
       "      <td>P00371644</td>\n",
       "      <td>F</td>\n",
       "      <td>46-50</td>\n",
       "      <td>0</td>\n",
       "      <td>B</td>\n",
       "      <td>4+</td>\n",
       "      <td>1</td>\n",
       "      <td>20</td>\n",
       "      <td>490</td>\n",
       "    </tr>\n",
       "  </tbody>\n",
       "</table>\n",
       "</div>"
      ],
      "text/plain": [
       "        User_ID Product_ID Gender    Age  Occupation City_Category  \\\n",
       "550063  1006033  P00372445      M  51-55          13             B   \n",
       "550064  1006035  P00375436      F  26-35           1             C   \n",
       "550065  1006036  P00375436      F  26-35          15             B   \n",
       "550066  1006038  P00375436      F    55+           1             C   \n",
       "550067  1006039  P00371644      F  46-50           0             B   \n",
       "\n",
       "       Stay_In_Current_City_Years  Marital_Status  Product_Category  Purchase  \n",
       "550063                          1               1                20       368  \n",
       "550064                          3               0                20       371  \n",
       "550065                         4+               1                20       137  \n",
       "550066                          2               0                20       365  \n",
       "550067                         4+               1                20       490  "
      ]
     },
     "execution_count": 13,
     "metadata": {},
     "output_type": "execute_result"
    }
   ],
   "source": [
    "wal.tail()"
   ]
  },
  {
   "cell_type": "code",
   "execution_count": 8,
   "id": "583e6a11",
   "metadata": {},
   "outputs": [
    {
     "data": {
      "text/plain": [
       "550068"
      ]
     },
     "execution_count": 8,
     "metadata": {},
     "output_type": "execute_result"
    }
   ],
   "source": [
    "len(wal)   #checking the number of rows of data"
   ]
  },
  {
   "cell_type": "code",
   "execution_count": 23,
   "id": "34308277",
   "metadata": {},
   "outputs": [
    {
     "data": {
      "text/plain": [
       "(550068, 10)"
      ]
     },
     "execution_count": 23,
     "metadata": {},
     "output_type": "execute_result"
    }
   ],
   "source": [
    "wal.shape  #checking the structure of data"
   ]
  },
  {
   "cell_type": "code",
   "execution_count": 14,
   "id": "dfdaff49",
   "metadata": {},
   "outputs": [
    {
     "data": {
      "text/plain": [
       "User_ID                        int64\n",
       "Product_ID                    object\n",
       "Gender                        object\n",
       "Age                           object\n",
       "Occupation                     int64\n",
       "City_Category                 object\n",
       "Stay_In_Current_City_Years    object\n",
       "Marital_Status                 int64\n",
       "Product_Category               int64\n",
       "Purchase                       int64\n",
       "dtype: object"
      ]
     },
     "execution_count": 14,
     "metadata": {},
     "output_type": "execute_result"
    }
   ],
   "source": [
    "wal.dtypes   #checking the datatypes"
   ]
  },
  {
   "cell_type": "code",
   "execution_count": 16,
   "id": "77fafbc4",
   "metadata": {},
   "outputs": [
    {
     "data": {
      "text/plain": [
       "User_ID                        5891\n",
       "Product_ID                     3631\n",
       "Gender                            2\n",
       "Age                               7\n",
       "Occupation                       21\n",
       "City_Category                     3\n",
       "Stay_In_Current_City_Years        5\n",
       "Marital_Status                    2\n",
       "Product_Category                 20\n",
       "Purchase                      18105\n",
       "dtype: int64"
      ]
     },
     "execution_count": 16,
     "metadata": {},
     "output_type": "execute_result"
    }
   ],
   "source": [
    "wal.nunique()  #checking on the no of unique datas"
   ]
  },
  {
   "cell_type": "code",
   "execution_count": 22,
   "id": "b9e5d1b5",
   "metadata": {},
   "outputs": [
    {
     "data": {
      "text/plain": [
       "M    414259\n",
       "F    135809\n",
       "Name: Gender, dtype: int64"
      ]
     },
     "execution_count": 22,
     "metadata": {},
     "output_type": "execute_result"
    }
   ],
   "source": [
    "wal['Gender'].value_counts()  #getting the counts based on gender"
   ]
  },
  {
   "cell_type": "code",
   "execution_count": 26,
   "id": "70fd9e78",
   "metadata": {},
   "outputs": [
    {
     "data": {
      "text/plain": [
       "User_ID                       0\n",
       "Product_ID                    0\n",
       "Gender                        0\n",
       "Age                           0\n",
       "Occupation                    0\n",
       "City_Category                 0\n",
       "Stay_In_Current_City_Years    0\n",
       "Marital_Status                0\n",
       "Product_Category              0\n",
       "Purchase                      0\n",
       "dtype: int64"
      ]
     },
     "execution_count": 26,
     "metadata": {},
     "output_type": "execute_result"
    }
   ],
   "source": [
    "wal.isnull().sum()  #checking null values for each column "
   ]
  },
  {
   "cell_type": "code",
   "execution_count": 27,
   "id": "9aed82ba",
   "metadata": {},
   "outputs": [
    {
     "data": {
      "text/html": [
       "<div>\n",
       "<style scoped>\n",
       "    .dataframe tbody tr th:only-of-type {\n",
       "        vertical-align: middle;\n",
       "    }\n",
       "\n",
       "    .dataframe tbody tr th {\n",
       "        vertical-align: top;\n",
       "    }\n",
       "\n",
       "    .dataframe thead th {\n",
       "        text-align: right;\n",
       "    }\n",
       "</style>\n",
       "<table border=\"1\" class=\"dataframe\">\n",
       "  <thead>\n",
       "    <tr style=\"text-align: right;\">\n",
       "      <th></th>\n",
       "      <th>User_ID</th>\n",
       "      <th>Occupation</th>\n",
       "      <th>Marital_Status</th>\n",
       "      <th>Product_Category</th>\n",
       "      <th>Purchase</th>\n",
       "    </tr>\n",
       "  </thead>\n",
       "  <tbody>\n",
       "    <tr>\n",
       "      <th>count</th>\n",
       "      <td>5.500680e+05</td>\n",
       "      <td>550068.000000</td>\n",
       "      <td>550068.000000</td>\n",
       "      <td>550068.000000</td>\n",
       "      <td>550068.000000</td>\n",
       "    </tr>\n",
       "    <tr>\n",
       "      <th>mean</th>\n",
       "      <td>1.003029e+06</td>\n",
       "      <td>8.076707</td>\n",
       "      <td>0.409653</td>\n",
       "      <td>5.404270</td>\n",
       "      <td>9263.968713</td>\n",
       "    </tr>\n",
       "    <tr>\n",
       "      <th>std</th>\n",
       "      <td>1.727592e+03</td>\n",
       "      <td>6.522660</td>\n",
       "      <td>0.491770</td>\n",
       "      <td>3.936211</td>\n",
       "      <td>5023.065394</td>\n",
       "    </tr>\n",
       "    <tr>\n",
       "      <th>min</th>\n",
       "      <td>1.000001e+06</td>\n",
       "      <td>0.000000</td>\n",
       "      <td>0.000000</td>\n",
       "      <td>1.000000</td>\n",
       "      <td>12.000000</td>\n",
       "    </tr>\n",
       "    <tr>\n",
       "      <th>25%</th>\n",
       "      <td>1.001516e+06</td>\n",
       "      <td>2.000000</td>\n",
       "      <td>0.000000</td>\n",
       "      <td>1.000000</td>\n",
       "      <td>5823.000000</td>\n",
       "    </tr>\n",
       "    <tr>\n",
       "      <th>50%</th>\n",
       "      <td>1.003077e+06</td>\n",
       "      <td>7.000000</td>\n",
       "      <td>0.000000</td>\n",
       "      <td>5.000000</td>\n",
       "      <td>8047.000000</td>\n",
       "    </tr>\n",
       "    <tr>\n",
       "      <th>75%</th>\n",
       "      <td>1.004478e+06</td>\n",
       "      <td>14.000000</td>\n",
       "      <td>1.000000</td>\n",
       "      <td>8.000000</td>\n",
       "      <td>12054.000000</td>\n",
       "    </tr>\n",
       "    <tr>\n",
       "      <th>max</th>\n",
       "      <td>1.006040e+06</td>\n",
       "      <td>20.000000</td>\n",
       "      <td>1.000000</td>\n",
       "      <td>20.000000</td>\n",
       "      <td>23961.000000</td>\n",
       "    </tr>\n",
       "  </tbody>\n",
       "</table>\n",
       "</div>"
      ],
      "text/plain": [
       "            User_ID     Occupation  Marital_Status  Product_Category  \\\n",
       "count  5.500680e+05  550068.000000   550068.000000     550068.000000   \n",
       "mean   1.003029e+06       8.076707        0.409653          5.404270   \n",
       "std    1.727592e+03       6.522660        0.491770          3.936211   \n",
       "min    1.000001e+06       0.000000        0.000000          1.000000   \n",
       "25%    1.001516e+06       2.000000        0.000000          1.000000   \n",
       "50%    1.003077e+06       7.000000        0.000000          5.000000   \n",
       "75%    1.004478e+06      14.000000        1.000000          8.000000   \n",
       "max    1.006040e+06      20.000000        1.000000         20.000000   \n",
       "\n",
       "            Purchase  \n",
       "count  550068.000000  \n",
       "mean     9263.968713  \n",
       "std      5023.065394  \n",
       "min        12.000000  \n",
       "25%      5823.000000  \n",
       "50%      8047.000000  \n",
       "75%     12054.000000  \n",
       "max     23961.000000  "
      ]
     },
     "execution_count": 27,
     "metadata": {},
     "output_type": "execute_result"
    }
   ],
   "source": [
    "wal.describe()"
   ]
  },
  {
   "cell_type": "code",
   "execution_count": 29,
   "id": "784d9826",
   "metadata": {},
   "outputs": [
    {
     "name": "stderr",
     "output_type": "stream",
     "text": [
      "C:\\ProgramData\\Anaconda3\\lib\\site-packages\\seaborn\\_decorators.py:36: FutureWarning: Pass the following variable as a keyword arg: x. From version 0.12, the only valid positional argument will be `data`, and passing other arguments without an explicit keyword will result in an error or misinterpretation.\n",
      "  warnings.warn(\n"
     ]
    },
    {
     "data": {
      "text/plain": [
       "<AxesSubplot:xlabel='Purchase'>"
      ]
     },
     "execution_count": 29,
     "metadata": {},
     "output_type": "execute_result"
    },
    {
     "data": {
      "image/png": "[encoded data removed]",
      "text/plain": [
       "<Figure size 432x288 with 1 Axes>"
      ]
     },
     "metadata": {
      "needs_background": "light"
     },
     "output_type": "display_data"
    }
   ],
   "source": [
    "sns.boxplot(wal['Purchase'])   #checking for outliers"
   ]
  },
  {
   "cell_type": "code",
   "execution_count": 39,
   "id": "eb6f28f5",
   "metadata": {},
   "outputs": [
    {
     "data": {
      "text/plain": [
       "3541"
      ]
     },
     "execution_count": 39,
     "metadata": {},
     "output_type": "execute_result"
    }
   ],
   "source": [
    "wal[wal['Purchase']>21000].count()[0]"
   ]
  },
  {
   "cell_type": "code",
   "execution_count": 46,
   "id": "b92aaeb7",
   "metadata": {},
   "outputs": [
    {
     "name": "stdout",
     "output_type": "stream",
     "text": [
      "546522\n"
     ]
    },
    {
     "name": "stderr",
     "output_type": "stream",
     "text": [
      "C:\\ProgramData\\Anaconda3\\lib\\site-packages\\seaborn\\_decorators.py:36: FutureWarning: Pass the following variable as a keyword arg: x. From version 0.12, the only valid positional argument will be `data`, and passing other arguments without an explicit keyword will result in an error or misinterpretation.\n",
      "  warnings.warn(\n"
     ]
    },
    {
     "data": {
      "text/plain": [
       "<AxesSubplot:xlabel='Purchase'>"
      ]
     },
     "execution_count": 46,
     "metadata": {},
     "output_type": "execute_result"
    },
    {
     "data": {
      "image/png": "[encoded data removed]",
      "text/plain": [
       "<Figure size 432x288 with 1 Axes>"
      ]
     },
     "metadata": {
      "needs_background": "light"
     },
     "output_type": "display_data"
    }
   ],
   "source": [
    "#filtering out the outliers\n",
    "\n",
    "wal_1 = wal[wal['Purchase']<21000]\n",
    "print(wal_1.count()[0])\n",
    "sns.boxplot(wal_1['Purchase'])"
   ]
  },
  {
   "cell_type": "code",
   "execution_count": 59,
   "id": "23f77a3d",
   "metadata": {},
   "outputs": [
    {
     "data": {
      "text/plain": [
       "<AxesSubplot:xlabel='Gender', ylabel='Purchase'>"
      ]
     },
     "execution_count": 59,
     "metadata": {},
     "output_type": "execute_result"
    },
    {
     "data": {
      "image/png": "[encoded data removed]",
      "text/plain": [
       "<Figure size 432x288 with 1 Axes>"
      ]
     },
     "metadata": {
      "needs_background": "light"
     },
     "output_type": "display_data"
    }
   ],
   "source": [
    "#bivariate analysis\n",
    "sns.boxplot(x='Gender',y='Purchase',data=wal_1)\n",
    "\n",
    "#Males have a slight high spending and high median spending as compared to females\n"
   ]
  },
  {
   "cell_type": "code",
   "execution_count": 52,
   "id": "95a07059",
   "metadata": {},
   "outputs": [
    {
     "data": {
      "text/plain": [
       "<AxesSubplot:xlabel='City_Category', ylabel='Purchase'>"
      ]
     },
     "execution_count": 52,
     "metadata": {},
     "output_type": "execute_result"
    },
    {
     "data": {
      "image/png": "[encoded data removed]",
      "text/plain": [
       "<Figure size 432x288 with 1 Axes>"
      ]
     },
     "metadata": {
      "needs_background": "light"
     },
     "output_type": "display_data"
    }
   ],
   "source": [
    "#bivariate analysis\n",
    "sns.boxplot(x='City_Category',y='Purchase',data=wal_1)\n",
    "\n",
    "\n",
    "#In terms of spending based on the city C has been the highest while A nd B has been some what similar"
   ]
  },
  {
   "cell_type": "code",
   "execution_count": 57,
   "id": "75e9803e",
   "metadata": {},
   "outputs": [
    {
     "data": {
      "text/plain": [
       "<AxesSubplot:xlabel='Marital_Status', ylabel='Purchase'>"
      ]
     },
     "execution_count": 57,
     "metadata": {},
     "output_type": "execute_result"
    },
    {
     "data": {
      "image/png": "[encoded data removed]",
      "text/plain": [
       "<Figure size 432x288 with 1 Axes>"
      ]
     },
     "metadata": {
      "needs_background": "light"
     },
     "output_type": "display_data"
    }
   ],
   "source": [
    "#bivariate analysis\n",
    "sns.boxplot(x='Marital_Status',y='Purchase',data=wal_1)\n",
    "#married and unmarried both have have spent nearly equal amount there s no major difference in the amount spending "
   ]
  },
  {
   "cell_type": "code",
   "execution_count": 63,
   "id": "9ac2d6c3",
   "metadata": {},
   "outputs": [
    {
     "name": "stderr",
     "output_type": "stream",
     "text": [
      "C:\\ProgramData\\Anaconda3\\lib\\site-packages\\seaborn\\_decorators.py:36: FutureWarning: Pass the following variable as a keyword arg: x. From version 0.12, the only valid positional argument will be `data`, and passing other arguments without an explicit keyword will result in an error or misinterpretation.\n",
      "  warnings.warn(\n"
     ]
    },
    {
     "data": {
      "text/plain": [
       "<AxesSubplot:xlabel='Age', ylabel='count'>"
      ]
     },
     "execution_count": 63,
     "metadata": {},
     "output_type": "execute_result"
    },
    {
     "data": {
      "image/png": "[encoded data removed]",
      "text/plain": [
       "<Figure size 432x288 with 1 Axes>"
      ]
     },
     "metadata": {
      "needs_background": "light"
     },
     "output_type": "display_data"
    }
   ],
   "source": [
    "# distribution of age \n",
    "sns.countplot(wal_1['Age'])\n",
    "\n",
    "#Most of the customers are in the age span of 26-35"
   ]
  },
  {
   "cell_type": "code",
   "execution_count": 72,
   "id": "1aab27d3",
   "metadata": {},
   "outputs": [
    {
     "data": {
      "text/plain": [
       "<AxesSubplot:>"
      ]
     },
     "execution_count": 72,
     "metadata": {},
     "output_type": "execute_result"
    },
    {
     "data": {
      "image/png": "[encoded data removed]",
      "text/plain": [
       "<Figure size 432x288 with 2 Axes>"
      ]
     },
     "metadata": {
      "needs_background": "light"
     },
     "output_type": "display_data"
    }
   ],
   "source": [
    "#Corellation of all fields \n",
    "sns.heatmap(wal_1.corr(),annot=True)"
   ]
  },
  {
   "cell_type": "code",
   "execution_count": 75,
   "id": "cb839486",
   "metadata": {},
   "outputs": [
    {
     "data": {
      "text/html": [
       "<div>\n",
       "<style scoped>\n",
       "    .dataframe tbody tr th:only-of-type {\n",
       "        vertical-align: middle;\n",
       "    }\n",
       "\n",
       "    .dataframe tbody tr th {\n",
       "        vertical-align: top;\n",
       "    }\n",
       "\n",
       "    .dataframe thead th {\n",
       "        text-align: right;\n",
       "    }\n",
       "</style>\n",
       "<table border=\"1\" class=\"dataframe\">\n",
       "  <thead>\n",
       "    <tr style=\"text-align: right;\">\n",
       "      <th>Stay_In_Current_City_Years</th>\n",
       "      <th>0</th>\n",
       "      <th>1</th>\n",
       "      <th>2</th>\n",
       "      <th>3</th>\n",
       "      <th>4+</th>\n",
       "    </tr>\n",
       "    <tr>\n",
       "      <th>City_Category</th>\n",
       "      <th></th>\n",
       "      <th></th>\n",
       "      <th></th>\n",
       "      <th></th>\n",
       "      <th></th>\n",
       "    </tr>\n",
       "  </thead>\n",
       "  <tbody>\n",
       "    <tr>\n",
       "      <th>A</th>\n",
       "      <td>24005</td>\n",
       "      <td>49021</td>\n",
       "      <td>26952</td>\n",
       "      <td>24629</td>\n",
       "      <td>22186</td>\n",
       "    </tr>\n",
       "    <tr>\n",
       "      <th>B</th>\n",
       "      <td>28538</td>\n",
       "      <td>82853</td>\n",
       "      <td>41536</td>\n",
       "      <td>42439</td>\n",
       "      <td>34399</td>\n",
       "    </tr>\n",
       "    <tr>\n",
       "      <th>C</th>\n",
       "      <td>21384</td>\n",
       "      <td>60655</td>\n",
       "      <td>32733</td>\n",
       "      <td>27591</td>\n",
       "      <td>27601</td>\n",
       "    </tr>\n",
       "  </tbody>\n",
       "</table>\n",
       "</div>"
      ],
      "text/plain": [
       "Stay_In_Current_City_Years      0      1      2      3     4+\n",
       "City_Category                                                \n",
       "A                           24005  49021  26952  24629  22186\n",
       "B                           28538  82853  41536  42439  34399\n",
       "C                           21384  60655  32733  27591  27601"
      ]
     },
     "execution_count": 75,
     "metadata": {},
     "output_type": "execute_result"
    }
   ],
   "source": [
    "pd.crosstab(index=wal_1['City_Category'],columns=wal_1['Stay_In_Current_City_Years'])\n",
    "\n",
    "#Most of the customers have live in B category city for most of the times"
   ]
  },
  {
   "cell_type": "code",
   "execution_count": 81,
   "id": "ca51c258",
   "metadata": {},
   "outputs": [
    {
     "data": {
      "text/plain": [
       "0    322753\n",
       "1    223769\n",
       "Name: Marital_Status, dtype: int64"
      ]
     },
     "execution_count": 81,
     "metadata": {},
     "output_type": "execute_result"
    }
   ],
   "source": [
    "wal_1['Marital_Status'].value_counts()\n",
    "\n",
    "#Unmarried customers are more in comparision to married customers"
   ]
  },
  {
   "cell_type": "code",
   "execution_count": 84,
   "id": "093f6f34",
   "metadata": {},
   "outputs": [
    {
     "name": "stderr",
     "output_type": "stream",
     "text": [
      "C:\\ProgramData\\Anaconda3\\lib\\site-packages\\seaborn\\_decorators.py:36: FutureWarning: Pass the following variable as a keyword arg: x. From version 0.12, the only valid positional argument will be `data`, and passing other arguments without an explicit keyword will result in an error or misinterpretation.\n",
      "  warnings.warn(\n"
     ]
    },
    {
     "data": {
      "text/plain": [
       "<AxesSubplot:xlabel='Product_Category', ylabel='count'>"
      ]
     },
     "execution_count": 84,
     "metadata": {},
     "output_type": "execute_result"
    },
    {
     "data": {
      "image/png": "[encoded data removed]",
      "text/plain": [
       "<Figure size 432x288 with 1 Axes>"
      ]
     },
     "metadata": {
      "needs_background": "light"
     },
     "output_type": "display_data"
    }
   ],
   "source": [
    "sns.countplot(wal_1['Product_Category'])\n",
    "\n",
    "#Product 1,5 are the most selled products category followed by 8 having significant greater sales no"
   ]
  },
  {
   "cell_type": "code",
   "execution_count": 85,
   "id": "d3b3270c",
   "metadata": {},
   "outputs": [],
   "source": [
    "wal_f = wal_1[wal_1['Gender']=='F']\n",
    "wal_m = wal_1[wal_1['Gender']=='M']"
   ]
  },
  {
   "cell_type": "code",
   "execution_count": 97,
   "id": "ca16d44e",
   "metadata": {},
   "outputs": [
    {
     "name": "stdout",
     "output_type": "stream",
     "text": [
      "No of Females are: 411466\n",
      "No of Females are: 135056\n"
     ]
    }
   ],
   "source": [
    "print('No of Females are:',len(wal_m))\n",
    "print('No of Females are:',len(wal_f))"
   ]
  },
  {
   "cell_type": "markdown",
   "id": "805520ea",
   "metadata": {},
   "source": [
    "# Comparing males and females spendings and means"
   ]
  },
  {
   "cell_type": "code",
   "execution_count": 113,
   "id": "a9732ea3",
   "metadata": {},
   "outputs": [
    {
     "name": "stdout",
     "output_type": "stream",
     "text": [
      "Spending of males per transaction:  9347\n",
      "Spending of Females per transaction:  8655\n"
     ]
    }
   ],
   "source": [
    "print('Spending of males per transaction: ',sum(wal_m['Purchase'])//len(wal_m))\n",
    "print('Spending of Females per transaction: ',sum(wal_f['Purchase'])//len(wal_f))\n"
   ]
  },
  {
   "cell_type": "markdown",
   "id": "4ce1b312",
   "metadata": {},
   "source": [
    "Females have spent less than the males on an average "
   ]
  },
  {
   "cell_type": "code",
   "execution_count": 110,
   "id": "570c24b3",
   "metadata": {},
   "outputs": [
    {
     "name": "stdout",
     "output_type": "stream",
     "text": [
      "Spending of males per transaction:  8929.132200587637\n",
      "Spending of Females per transaction:  8498.371915492959\n"
     ]
    }
   ],
   "source": [
    "#Spending based on the city_categories\n",
    "###For A category\n",
    "\n",
    "print('Spending of males per transaction: ',sum(wal_m[wal_m['City_Category']=='A']['Purchase'])/len(wal_m[wal_m['City_Category']=='A']))\n",
    "print('Spending of Females per transaction: ',sum(wal_f[wal_f['City_Category']=='A']['Purchase'])/len(wal_f[wal_f['City_Category']=='A']))\n"
   ]
  },
  {
   "cell_type": "code",
   "execution_count": 111,
   "id": "2a4c6f3e",
   "metadata": {},
   "outputs": [
    {
     "name": "stdout",
     "output_type": "stream",
     "text": [
      "Spending of males per transaction:  9268.098028515698\n",
      "Spending of Females per transaction:  8469.2243822706\n"
     ]
    }
   ],
   "source": [
    "###For B category\n",
    "\n",
    "print('Spending of males per transaction: ',sum(wal_m[wal_m['City_Category']=='B']['Purchase'])/len(wal_m[wal_m['City_Category']=='B']))\n",
    "print('Spending of Females per transaction: ',sum(wal_f[wal_f['City_Category']=='B']['Purchase'])/len(wal_f[wal_f['City_Category']=='B']))\n"
   ]
  },
  {
   "cell_type": "code",
   "execution_count": 112,
   "id": "c5e5cc65",
   "metadata": {},
   "outputs": [
    {
     "name": "stdout",
     "output_type": "stream",
     "text": [
      "Spending of males per transaction:  9818.398789840287\n",
      "Spending of Females per transaction:  9044.1139439199\n"
     ]
    }
   ],
   "source": [
    "###For C category\n",
    "\n",
    "print('Spending of males per transaction: ',sum(wal_m[wal_m['City_Category']=='C']['Purchase'])/len(wal_m[wal_m['City_Category']=='C']))\n",
    "print('Spending of Females per transaction: ',sum(wal_f[wal_f['City_Category']=='C']['Purchase'])/len(wal_f[wal_f['City_Category']=='C']))\n"
   ]
  },
  {
   "cell_type": "markdown",
   "id": "62fe9e86",
   "metadata": {},
   "source": [
    "#Spending in city C is comparitively more as compared to TIER A AND B cities.\n"
   ]
  },
  {
   "cell_type": "code",
   "execution_count": 125,
   "id": "17ee1de5",
   "metadata": {},
   "outputs": [
    {
     "data": {
      "text/plain": [
       "Text(0, 0.5, 'Sample Mean')"
      ]
     },
     "execution_count": 125,
     "metadata": {},
     "output_type": "execute_result"
    },
    {
     "data": {
      "image/png": "[encoded data removed]",
      "text/plain": [
       "<Figure size 432x288 with 1 Axes>"
      ]
     },
     "metadata": {
      "needs_background": "light"
     },
     "output_type": "display_data"
    }
   ],
   "source": [
    "#Mean variance reducing as we increase the number of samples thus giving more closer/accurate values \n",
    "sample_mean_trend = []\n",
    "for num_samples in range(5,1000):\n",
    "    sample = wal_1['Purchase'].sample(num_samples)\n",
    "    sample_mean = np.mean(sample)\n",
    "    sample_mean_trend.append(sample_mean)\n",
    "plt.plot(sample_mean_trend)\n",
    "plt.xlabel('No of samples')\n",
    "plt.ylabel('Sample Mean')"
   ]
  },
  {
   "cell_type": "markdown",
   "id": "6e2d5eb7",
   "metadata": {},
   "source": [
    "# confidence interval"
   ]
  },
  {
   "cell_type": "code",
   "execution_count": 131,
   "id": "d01f8c8d",
   "metadata": {},
   "outputs": [
    {
     "data": {
      "text/plain": [
       "<AxesSubplot:ylabel='Count'>"
      ]
     },
     "execution_count": 131,
     "metadata": {},
     "output_type": "execute_result"
    },
    {
     "data": {
      "image/png": "[encoded data removed]",
      "text/plain": [
       "<Figure size 432x288 with 1 Axes>"
      ]
     },
     "metadata": {
      "needs_background": "light"
     },
     "output_type": "display_data"
    }
   ],
   "source": [
    "num_samples = 1000\n",
    "num_times = 10000\n",
    "sample_means = []\n",
    "for i in range(num_times):\n",
    "    sample = wal['Purchase'].sample(num_samples)\n",
    "    sample_mean = np.mean(sample)\n",
    "    sample_means.append(sample_mean)\n",
    "sns.histplot(sample_means)\n"
   ]
  },
  {
   "cell_type": "code",
   "execution_count": 132,
   "id": "1ead6e5c",
   "metadata": {},
   "outputs": [],
   "source": [
    "pop_mu = wal_1['Purchase'].mean()\n",
    "pop_std = wal_1['Purchase'].std()"
   ]
  },
  {
   "cell_type": "code",
   "execution_count": 133,
   "id": "8d05c30a",
   "metadata": {},
   "outputs": [
    {
     "name": "stdout",
     "output_type": "stream",
     "text": [
      "Range of z values: [-1.96, 1.96]\n"
     ]
    }
   ],
   "source": [
    "#at first calculating the zeta value using which we will get left and right range values\n",
    "left_z = round(norm.ppf(0.025),2)\n",
    "right_z = round(norm.ppf(0.975),2)\n",
    "print(f\"Range of z values: [{left_z}, {right_z}]\")"
   ]
  },
  {
   "cell_type": "code",
   "execution_count": 136,
   "id": "98387b1f",
   "metadata": {},
   "outputs": [
    {
     "name": "stdout",
     "output_type": "stream",
     "text": [
      "With 95% confidence interval we can say that the spending lies between 8871.66 and 9481.5\n"
     ]
    }
   ],
   "source": [
    "left = round(left_z * pop_std/np.sqrt(num_samples) + pop_mu,2)\n",
    "right = round(right_z * pop_std/np.sqrt(num_samples) + pop_mu,2)\n",
    "\n",
    "print(f\"With 95% confidence interval we can say that the spending lies between {left} and {right}\")"
   ]
  },
  {
   "cell_type": "code",
   "execution_count": 138,
   "id": "41fe58c6",
   "metadata": {},
   "outputs": [
    {
     "data": {
      "text/plain": [
       "<AxesSubplot:ylabel='Count'>"
      ]
     },
     "execution_count": 138,
     "metadata": {},
     "output_type": "execute_result"
    },
    {
     "data": {
      "image/png": "[encoded data removed]",
      "text/plain": [
       "<Figure size 432x288 with 1 Axes>"
      ]
     },
     "metadata": {
      "needs_background": "light"
     },
     "output_type": "display_data"
    }
   ],
   "source": [
    "#For males the spending range is\n",
    "\n",
    "num_samples = 100\n",
    "num_times = 1000\n",
    "sample_means = []\n",
    "for i in range(num_times):\n",
    "    sample = wal_m['Purchase'].sample(num_samples)\n",
    "    sample_mean = np.mean(sample)\n",
    "    sample_means.append(sample_mean)\n",
    "sns.histplot(sample_means)"
   ]
  },
  {
   "cell_type": "code",
   "execution_count": 141,
   "id": "c8048bb7",
   "metadata": {},
   "outputs": [
    {
     "name": "stdout",
     "output_type": "stream",
     "text": [
      "With 95% confidence interval we can say that the spending for males lies between 8369.53 and 10325.45\n"
     ]
    }
   ],
   "source": [
    "pop_mu = wal_m['Purchase'].mean()\n",
    "pop_std = wal_m['Purchase'].std()\n",
    "\n",
    "left = round(left_z * pop_std/np.sqrt(num_samples) + pop_mu,2)\n",
    "right = round(right_z * pop_std/np.sqrt(num_samples) + pop_mu,2)\n",
    "\n",
    "print(f\"With 95% confidence interval we can say that the spending for males lies between {left} and {right}\")"
   ]
  },
  {
   "cell_type": "code",
   "execution_count": 142,
   "id": "6d2d3a54",
   "metadata": {},
   "outputs": [
    {
     "name": "stdout",
     "output_type": "stream",
     "text": [
      "With 95% confidence interval we can say that the spending for females lies between 7742.2 and 9569.53\n"
     ]
    },
    {
     "data": {
      "image/png": "[encoded data removed]",
      "text/plain": [
       "<Figure size 432x288 with 1 Axes>"
      ]
     },
     "metadata": {
      "needs_background": "light"
     },
     "output_type": "display_data"
    }
   ],
   "source": [
    "#For females the spending range is\n",
    "\n",
    "num_samples = 100\n",
    "num_times = 1000\n",
    "sample_means = []\n",
    "for i in range(num_times):\n",
    "    sample = wal_f['Purchase'].sample(num_samples)\n",
    "    sample_mean = np.mean(sample)\n",
    "    sample_means.append(sample_mean)\n",
    "sns.histplot(sample_means)\n",
    "\n",
    "\n",
    "pop_mu = wal_f['Purchase'].mean()\n",
    "pop_std = wal_f['Purchase'].std()\n",
    "\n",
    "left = round(left_z * pop_std/np.sqrt(num_samples) + pop_mu,2)\n",
    "right = round(right_z * pop_std/np.sqrt(num_samples) + pop_mu,2)\n",
    "\n",
    "print(f\"With 95% confidence interval we can say that the spending for females lies between {left} and {right}\")"
   ]
  },
  {
   "cell_type": "markdown",
   "id": "630d53a3",
   "metadata": {},
   "source": [
    "From the above analysis it states that the mean of the expenses of males are higher than females."
   ]
  },
  {
   "cell_type": "code",
   "execution_count": 143,
   "id": "4b1f3738",
   "metadata": {},
   "outputs": [],
   "source": [
    "###We can also find from the above analysis that the spending of males and females are overlaping each other as  for males\n",
    "#it ranges between 8k to 10k approx while for females it is 7l to 9k"
   ]
  },
  {
   "cell_type": "markdown",
   "id": "6570ed28",
   "metadata": {},
   "source": [
    "From the above analysis walmart can focus more on males products as the mean spending range of men is higher than the females.So they can introduce more no of males products.Based on the crosstab result of gender and product category as shown above walmart ca get a clear picture of the product categories that males are more into.They can fosus on introducing more variety of those to gain more.And as per females they should introduce more offers and categories of product to gain more sales amount."
   ]
  },
  {
   "cell_type": "markdown",
   "id": "3a2a1940",
   "metadata": {},
   "source": [
    "# For married and unmarried couples "
   ]
  },
  {
   "cell_type": "code",
   "execution_count": 150,
   "id": "d2625818",
   "metadata": {},
   "outputs": [
    {
     "name": "stderr",
     "output_type": "stream",
     "text": [
      "C:\\Users\\SAKUMARDASH\\AppData\\Local\\Temp\\ipykernel_6780\\2641535137.py:1: UserWarning: Boolean Series key will be reindexed to match DataFrame index.\n",
      "  wal_mr = wal_1[wal['Marital_Status']==1]\n",
      "C:\\Users\\SAKUMARDASH\\AppData\\Local\\Temp\\ipykernel_6780\\2641535137.py:2: UserWarning: Boolean Series key will be reindexed to match DataFrame index.\n",
      "  wal_u = wal_1[wal['Marital_Status']==0]\n"
     ]
    }
   ],
   "source": [
    "wal_mr = wal_1[wal['Marital_Status']==1]\n",
    "wal_u = wal_1[wal['Marital_Status']==0]"
   ]
  },
  {
   "cell_type": "code",
   "execution_count": 151,
   "id": "23e44fec",
   "metadata": {},
   "outputs": [
    {
     "name": "stdout",
     "output_type": "stream",
     "text": [
      "Range of z values: [-1.64, 1.64]\n",
      "With 90% confidence interval we can say that the spending for married's lies between 8362.35 and 9971.04\n"
     ]
    },
    {
     "data": {
      "image/png": "[encoded data removed]",
      "text/plain": [
       "<Figure size 432x288 with 1 Axes>"
      ]
     },
     "metadata": {
      "needs_background": "light"
     },
     "output_type": "display_data"
    }
   ],
   "source": [
    "#For married's the spending range is\n",
    "\n",
    "num_samples = 100\n",
    "num_times = 1000\n",
    "sample_means = []\n",
    "for i in range(num_times):\n",
    "    sample = wal_mr['Purchase'].sample(num_samples)\n",
    "    sample_mean = np.mean(sample)\n",
    "    sample_means.append(sample_mean)\n",
    "sns.histplot(sample_means)\n",
    "\n",
    "\n",
    "pop_mu = wal_mr['Purchase'].mean()\n",
    "pop_std = wal_mr['Purchase'].std()\n",
    "\n",
    "#calculating z for 90% confidence\n",
    "left_z = round(norm.ppf(0.05),2)\n",
    "right_z = round(norm.ppf(0.95),2)\n",
    "print(f\"Range of z values: [{left_z}, {right_z}]\")\n",
    "\n",
    "left = round(left_z * pop_std/np.sqrt(num_samples) + pop_mu,2)\n",
    "right = round(right_z * pop_std/np.sqrt(num_samples) + pop_mu,2)\n",
    "\n",
    "print(f\"With 90% confidence interval we can say that the spending for married's lies between {left} and {right}\")"
   ]
  },
  {
   "cell_type": "code",
   "execution_count": 153,
   "id": "a54476f1",
   "metadata": {},
   "outputs": [
    {
     "name": "stdout",
     "output_type": "stream",
     "text": [
      "Range of z values: [-1.64, 1.64]\n",
      "With 90% confidence interval we can say that the spending for Unmarried's lies between 8374.91 and 9991.96\n"
     ]
    },
    {
     "data": {
      "image/png": "[encoded data removed]",
      "text/plain": [
       "<Figure size 432x288 with 1 Axes>"
      ]
     },
     "metadata": {
      "needs_background": "light"
     },
     "output_type": "display_data"
    }
   ],
   "source": [
    "#For married's the spending range is\n",
    "\n",
    "num_samples = 100\n",
    "num_times = 1000\n",
    "sample_means = []\n",
    "for i in range(num_times):\n",
    "    sample = wal_u['Purchase'].sample(num_samples)\n",
    "    sample_mean = np.mean(sample)\n",
    "    sample_means.append(sample_mean)\n",
    "sns.histplot(sample_means)\n",
    "\n",
    "\n",
    "pop_mu = wal_u['Purchase'].mean()\n",
    "pop_std = wal_u['Purchase'].std()\n",
    "\n",
    "#calculating z for 90% confidence\n",
    "left_z = round(norm.ppf(0.05),2)\n",
    "right_z = round(norm.ppf(0.95),2)\n",
    "print(f\"Range of z values: [{left_z}, {right_z}]\")\n",
    "\n",
    "left = round(left_z * pop_std/np.sqrt(num_samples) + pop_mu,2)\n",
    "right = round(right_z * pop_std/np.sqrt(num_samples) + pop_mu,2)\n",
    "\n",
    "print(f\"With 90% confidence interval we can say that the spending for Unmarried's lies between {left} and {right}\")"
   ]
  },
  {
   "cell_type": "markdown",
   "id": "4cd2a393",
   "metadata": {},
   "source": [
    "From comparision of married to unmarried using 90% confidence interval we get both are spending equal mean range of spendings. The mean spending of both married and unmarried's almost completely overlap as seen from the 90% confidence intervals.This states that the sales for both the groups are well managed and has been giving equal results."
   ]
  },
  {
   "cell_type": "markdown",
   "id": "40f56e5a",
   "metadata": {},
   "source": [
    "# For Age groups"
   ]
  },
  {
   "cell_type": "code",
   "execution_count": 160,
   "id": "7d401949",
   "metadata": {},
   "outputs": [
    {
     "data": {
      "text/plain": [
       "array(['0-17', '55+', '26-35', '46-50', '51-55', '36-45', '18-25'],\n",
       "      dtype=object)"
      ]
     },
     "execution_count": 160,
     "metadata": {},
     "output_type": "execute_result"
    }
   ],
   "source": [
    "wal_1['Age'].unique() #gives the unique values of age"
   ]
  },
  {
   "cell_type": "code",
   "execution_count": 171,
   "id": "96365e55",
   "metadata": {},
   "outputs": [],
   "source": [
    "wal_17 = wal_1[wal_1['Age'] =='0-17']\n",
    "wal_25 = wal_1[wal_1['Age'] =='18-25']\n",
    "wal_45 = wal_1[wal_1['Age'] =='36-45']"
   ]
  },
  {
   "cell_type": "code",
   "execution_count": 168,
   "id": "42729bbd",
   "metadata": {},
   "outputs": [
    {
     "name": "stdout",
     "output_type": "stream",
     "text": [
      "Range of z values: [-1.64, 1.64]\n",
      "With 90% confidence interval we can say that the spending for age between 0 and 17 lies between 8026.83 and 9670.37\n"
     ]
    },
    {
     "data": {
      "image/png": "[encoded data removed]",
      "text/plain": [
       "<Figure size 432x288 with 1 Axes>"
      ]
     },
     "metadata": {
      "needs_background": "light"
     },
     "output_type": "display_data"
    }
   ],
   "source": [
    "#For married's the spending range is\n",
    "\n",
    "num_samples = 100\n",
    "num_times = 1000\n",
    "sample_means = []\n",
    "for i in range(num_times):\n",
    "    sample = wal_17['Purchase'].sample(num_samples)\n",
    "    sample_mean = np.mean(sample)\n",
    "    sample_means.append(sample_mean)\n",
    "sns.histplot(sample_means)\n",
    "\n",
    "\n",
    "pop_mu = wal_17['Purchase'].mean()\n",
    "pop_std = wal_17['Purchase'].std()\n",
    "\n",
    "#calculating z for 90% confidence\n",
    "left_z = round(norm.ppf(0.05),2)\n",
    "right_z = round(norm.ppf(0.95),2)\n",
    "print(f\"Range of z values: [{left_z}, {right_z}]\")\n",
    "\n",
    "left = round(left_z * pop_std/np.sqrt(num_samples) + pop_mu,2)\n",
    "right = round(right_z * pop_std/np.sqrt(num_samples) + pop_mu,2)\n",
    "\n",
    "print(f\"With 90% confidence interval we can say that the spending for age between 0 and 17 lies between {left} and {right}\")"
   ]
  },
  {
   "cell_type": "code",
   "execution_count": 170,
   "id": "2828e1b5",
   "metadata": {},
   "outputs": [
    {
     "name": "stdout",
     "output_type": "stream",
     "text": [
      "Range of z values: [-1.64, 1.64]\n",
      "With 90% confidence interval we can say that the spending for age between 18 and 25 lies between 8294.41 and 9922.28\n"
     ]
    },
    {
     "data": {
      "image/png": "[encoded data removed]",
      "text/plain": [
       "<Figure size 432x288 with 1 Axes>"
      ]
     },
     "metadata": {
      "needs_background": "light"
     },
     "output_type": "display_data"
    }
   ],
   "source": [
    "#For married's the spending range is\n",
    "\n",
    "num_samples = 100\n",
    "num_times = 1000\n",
    "sample_means = []\n",
    "for i in range(num_times):\n",
    "    sample = wal_25['Purchase'].sample(num_samples)\n",
    "    sample_mean = np.mean(sample)\n",
    "    sample_means.append(sample_mean)\n",
    "sns.histplot(sample_means)\n",
    "\n",
    "\n",
    "pop_mu = wal_25['Purchase'].mean()\n",
    "pop_std = wal_25['Purchase'].std()\n",
    "\n",
    "#calculating z for 90% confidence\n",
    "left_z = round(norm.ppf(0.05),2)\n",
    "right_z = round(norm.ppf(0.95),2)\n",
    "print(f\"Range of z values: [{left_z}, {right_z}]\")\n",
    "\n",
    "left = round(left_z * pop_std/np.sqrt(num_samples) + pop_mu,2)\n",
    "right = round(right_z * pop_std/np.sqrt(num_samples) + pop_mu,2)\n",
    "\n",
    "print(f\"With 90% confidence interval we can say that the spending for age between 18 and 25 lies between {left} and {right}\")"
   ]
  },
  {
   "cell_type": "code",
   "execution_count": 172,
   "id": "0132e0e2",
   "metadata": {},
   "outputs": [
    {
     "name": "stdout",
     "output_type": "stream",
     "text": [
      "Range of z values: [-1.64, 1.64]\n",
      "With 90% confidence interval we can say that the spending for age between 36 and 45 lies between 8428.65 and 10038.06\n"
     ]
    },
    {
     "data": {
      "image/png": "[encoded data removed]",
      "text/plain": [
       "<Figure size 432x288 with 1 Axes>"
      ]
     },
     "metadata": {
      "needs_background": "light"
     },
     "output_type": "display_data"
    }
   ],
   "source": [
    "#For married's the spending range is\n",
    "\n",
    "num_samples = 100\n",
    "num_times = 1000\n",
    "sample_means = []\n",
    "for i in range(num_times):\n",
    "    sample = wal_45['Purchase'].sample(num_samples)\n",
    "    sample_mean = np.mean(sample)\n",
    "    sample_means.append(sample_mean)\n",
    "sns.histplot(sample_means)\n",
    "\n",
    "\n",
    "pop_mu = wal_45['Purchase'].mean()\n",
    "pop_std = wal_45['Purchase'].std()\n",
    "\n",
    "#calculating z for 90% confidence\n",
    "left_z = round(norm.ppf(0.05),2)\n",
    "right_z = round(norm.ppf(0.95),2)\n",
    "print(f\"Range of z values: [{left_z}, {right_z}]\")\n",
    "\n",
    "left = round(left_z * pop_std/np.sqrt(num_samples) + pop_mu,2)\n",
    "right = round(right_z * pop_std/np.sqrt(num_samples) + pop_mu,2)\n",
    "\n",
    "print(f\"With 90% confidence interval we can say that the spending for age between 36 and 45 lies between {left} and {right}\")"
   ]
  },
  {
   "cell_type": "markdown",
   "id": "bf612a7e",
   "metadata": {},
   "source": [
    "From the analysis of ages between three groups clearly the age group of 36-46 has more mean spending than the others.Walmart should focus more on the lower age groups who are below 36 to improve their sales.Their primary focus should be on the product category lagging for the age groups below 36."
   ]
  },
  {
   "cell_type": "raw",
   "id": "ef50e792",
   "metadata": {},
   "source": [
    "So in conclusion walmart has good mean sales as found from the confidence intervals for males and for age groups between 36-45.Whereas the mean sales for married and unmarried mporeover overlapped completely.So walmart should bring their focus on females customers and customers who come in the age groups below 36 to improve their sales in those departments.\n",
    "The avg spending per transaction of males are also higher than the females so walmart should bring their focus more on the females side of customers."
   ]
  },
  {
   "cell_type": "code",
   "execution_count": null,
   "id": "883484de",
   "metadata": {},
   "outputs": [],
   "source": []
  }
 ],
 "metadata": {
  "kernelspec": {
   "display_name": "Python 3 (ipykernel)",
   "language": "python",
   "name": "python3"
  },
  "language_info": {
   "codemirror_mode": {
    "name": "ipython",
    "version": 3
   },
   "file_extension": ".py",
   "mimetype": "text/x-python",
   "name": "python",
   "nbconvert_exporter": "python",
   "pygments_lexer": "ipython3",
   "version": "3.9.12"
  }
 },
 "nbformat": 4,
 "nbformat_minor": 5
}
