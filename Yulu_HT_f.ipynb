{
 "cells": [
  {
   "cell_type": "markdown",
   "id": "emgc5Jymgwd8",
   "metadata": {
    "id": "emgc5Jymgwd8"
   },
   "source": [
    "### Problem Statement:"
   ]
  },
  {
   "cell_type": "code",
   "execution_count": null,
   "id": "4W2K3olTgx10",
   "metadata": {
    "id": "4W2K3olTgx10"
   },
   "outputs": [],
   "source": [
    "# Importing required libraries -\n",
    "import pandas as pd\n",
    "import numpy as np\n",
    "import seaborn as sbn\n",
    "import matplotlib.pyplot as plt\n",
    "from scipy import stats\n",
    "from scipy.stats import ttest_ind # T-test for independent samples\n",
    "from scipy.stats import shapiro # Shapiro-Wilk’s test for Normality\n",
    "from scipy.stats import levene # Levene's test for Equality of Variance\n",
    "from scipy.stats import f_oneway # One-way ANOVA\n",
    "from scipy.stats import chi2_contingency # Chi-square test of independence"
   ]
  },
  {
   "cell_type": "code",
   "execution_count": null,
   "id": "TvcaNytt7W_L",
   "metadata": {
    "id": "TvcaNytt7W_L"
   },
   "outputs": [],
   "source": [
    "import warnings\n",
    "warnings.simplefilter('ignore')"
   ]
  },
  {
   "cell_type": "code",
   "execution_count": null,
   "id": "HAxlEzIIUmST",
   "metadata": {
    "id": "HAxlEzIIUmST"
   },
   "outputs": [],
   "source": [
    "from pydrive.auth import GoogleAuth\n",
    "from pydrive.drive import GoogleDrive\n",
    "from google.colab import auth\n",
    "from oauth2client.client import GoogleCredentials\n",
    " \n",
    "auth.authenticate_user()\n",
    "gauth = GoogleAuth()\n",
    "gauth.credentials = GoogleCredentials.get_application_default()\n",
    "drive = GoogleDrive(gauth)\n",
    "\n",
    "link = 'https://drive.google.com/file/d/1o94fXnmvrx6jRgI6S-SeZ3tfnKjCDY0i/view?usp=sharing'\n",
    " \n",
    "id = link.split(\"/\")[-2]\n",
    " \n",
    "downloaded = drive.CreateFile({'id':id})\n",
    "downloaded.GetContentFile('bike_sharing.csv')"
   ]
  },
  {
   "cell_type": "code",
   "execution_count": null,
   "id": "3c011fa5",
   "metadata": {
    "colab": {
     "base_uri": "https://localhost:8080/",
     "height": 774
    },
    "id": "3c011fa5",
    "outputId": "0108e8e7-3478-4605-9fdd-3743939f4394"
   },
   "outputs": [
    {
     "data": {
      "text/html": [
       "\n",
       "  <div id=\"df-9781e0f6-f22e-4ce1-a21b-a59c01176f95\">\n",
       "    <div class=\"colab-df-container\">\n",
       "      <div>\n",
       "<style scoped>\n",
       "    .dataframe tbody tr th:only-of-type {\n",
       "        vertical-align: middle;\n",
       "    }\n",
       "\n",
       "    .dataframe tbody tr th {\n",
       "        vertical-align: top;\n",
       "    }\n",
       "\n",
       "    .dataframe thead th {\n",
       "        text-align: right;\n",
       "    }\n",
       "</style>\n",
       "<table border=\"1\" class=\"dataframe\">\n",
       "  <thead>\n",
       "    <tr style=\"text-align: right;\">\n",
       "      <th></th>\n",
       "      <th>datetime</th>\n",
       "      <th>season</th>\n",
       "      <th>holiday</th>\n",
       "      <th>workingday</th>\n",
       "      <th>weather</th>\n",
       "      <th>temp</th>\n",
       "      <th>atemp</th>\n",
       "      <th>humidity</th>\n",
       "      <th>windspeed</th>\n",
       "      <th>casual</th>\n",
       "      <th>registered</th>\n",
       "      <th>count</th>\n",
       "    </tr>\n",
       "  </thead>\n",
       "  <tbody>\n",
       "    <tr>\n",
       "      <th>5341</th>\n",
       "      <td>2011-12-16 15:00:00</td>\n",
       "      <td>4</td>\n",
       "      <td>0</td>\n",
       "      <td>1</td>\n",
       "      <td>2</td>\n",
       "      <td>13.12</td>\n",
       "      <td>15.150</td>\n",
       "      <td>45</td>\n",
       "      <td>19.9995</td>\n",
       "      <td>12</td>\n",
       "      <td>141</td>\n",
       "      <td>153</td>\n",
       "    </tr>\n",
       "    <tr>\n",
       "      <th>3220</th>\n",
       "      <td>2011-08-04 02:00:00</td>\n",
       "      <td>3</td>\n",
       "      <td>0</td>\n",
       "      <td>1</td>\n",
       "      <td>2</td>\n",
       "      <td>27.06</td>\n",
       "      <td>29.545</td>\n",
       "      <td>94</td>\n",
       "      <td>6.0032</td>\n",
       "      <td>2</td>\n",
       "      <td>5</td>\n",
       "      <td>7</td>\n",
       "    </tr>\n",
       "    <tr>\n",
       "      <th>3818</th>\n",
       "      <td>2011-09-10 02:00:00</td>\n",
       "      <td>3</td>\n",
       "      <td>0</td>\n",
       "      <td>0</td>\n",
       "      <td>2</td>\n",
       "      <td>24.60</td>\n",
       "      <td>25.000</td>\n",
       "      <td>97</td>\n",
       "      <td>7.0015</td>\n",
       "      <td>18</td>\n",
       "      <td>46</td>\n",
       "      <td>64</td>\n",
       "    </tr>\n",
       "    <tr>\n",
       "      <th>10388</th>\n",
       "      <td>2012-11-18 06:00:00</td>\n",
       "      <td>4</td>\n",
       "      <td>0</td>\n",
       "      <td>0</td>\n",
       "      <td>1</td>\n",
       "      <td>11.48</td>\n",
       "      <td>13.635</td>\n",
       "      <td>81</td>\n",
       "      <td>11.0014</td>\n",
       "      <td>2</td>\n",
       "      <td>13</td>\n",
       "      <td>15</td>\n",
       "    </tr>\n",
       "    <tr>\n",
       "      <th>6415</th>\n",
       "      <td>2012-03-04 13:00:00</td>\n",
       "      <td>1</td>\n",
       "      <td>0</td>\n",
       "      <td>0</td>\n",
       "      <td>1</td>\n",
       "      <td>14.76</td>\n",
       "      <td>16.665</td>\n",
       "      <td>37</td>\n",
       "      <td>23.9994</td>\n",
       "      <td>108</td>\n",
       "      <td>256</td>\n",
       "      <td>364</td>\n",
       "    </tr>\n",
       "    <tr>\n",
       "      <th>7217</th>\n",
       "      <td>2012-04-19 02:00:00</td>\n",
       "      <td>2</td>\n",
       "      <td>0</td>\n",
       "      <td>1</td>\n",
       "      <td>2</td>\n",
       "      <td>17.22</td>\n",
       "      <td>21.210</td>\n",
       "      <td>77</td>\n",
       "      <td>0.0000</td>\n",
       "      <td>2</td>\n",
       "      <td>4</td>\n",
       "      <td>6</td>\n",
       "    </tr>\n",
       "    <tr>\n",
       "      <th>10475</th>\n",
       "      <td>2012-12-02 21:00:00</td>\n",
       "      <td>4</td>\n",
       "      <td>0</td>\n",
       "      <td>0</td>\n",
       "      <td>2</td>\n",
       "      <td>18.04</td>\n",
       "      <td>21.970</td>\n",
       "      <td>77</td>\n",
       "      <td>15.0013</td>\n",
       "      <td>8</td>\n",
       "      <td>91</td>\n",
       "      <td>99</td>\n",
       "    </tr>\n",
       "    <tr>\n",
       "      <th>2356</th>\n",
       "      <td>2011-06-06 02:00:00</td>\n",
       "      <td>2</td>\n",
       "      <td>0</td>\n",
       "      <td>1</td>\n",
       "      <td>1</td>\n",
       "      <td>23.78</td>\n",
       "      <td>27.275</td>\n",
       "      <td>88</td>\n",
       "      <td>7.0015</td>\n",
       "      <td>4</td>\n",
       "      <td>4</td>\n",
       "      <td>8</td>\n",
       "    </tr>\n",
       "    <tr>\n",
       "      <th>7240</th>\n",
       "      <td>2012-05-01 01:00:00</td>\n",
       "      <td>2</td>\n",
       "      <td>0</td>\n",
       "      <td>1</td>\n",
       "      <td>2</td>\n",
       "      <td>20.50</td>\n",
       "      <td>24.240</td>\n",
       "      <td>63</td>\n",
       "      <td>8.9981</td>\n",
       "      <td>0</td>\n",
       "      <td>21</td>\n",
       "      <td>21</td>\n",
       "    </tr>\n",
       "    <tr>\n",
       "      <th>5934</th>\n",
       "      <td>2012-02-03 11:00:00</td>\n",
       "      <td>1</td>\n",
       "      <td>0</td>\n",
       "      <td>1</td>\n",
       "      <td>1</td>\n",
       "      <td>13.12</td>\n",
       "      <td>15.150</td>\n",
       "      <td>53</td>\n",
       "      <td>19.9995</td>\n",
       "      <td>15</td>\n",
       "      <td>149</td>\n",
       "      <td>164</td>\n",
       "    </tr>\n",
       "  </tbody>\n",
       "</table>\n",
       "</div>\n",
       "      <button class=\"colab-df-convert\" onclick=\"convertToInteractive('df-9781e0f6-f22e-4ce1-a21b-a59c01176f95')\"\n",
       "              title=\"Convert this dataframe to an interactive table.\"\n",
       "              style=\"display:none;\">\n",
       "        \n",
       "  <svg xmlns=\"http://www.w3.org/2000/svg\" height=\"24px\"viewBox=\"0 0 24 24\"\n",
       "       width=\"24px\">\n",
       "    <path d=\"M0 0h24v24H0V0z\" fill=\"none\"/>\n",
       "    <path d=\"M18.56 5.44l.94 2.06.94-2.06 2.06-.94-2.06-.94-.94-2.06-.94 2.06-2.06.94zm-11 1L8.5 8.5l.94-2.06 2.06-.94-2.06-.94L8.5 2.5l-.94 2.06-2.06.94zm10 10l.94 2.06.94-2.06 2.06-.94-2.06-.94-.94-2.06-.94 2.06-2.06.94z\"/><path d=\"M17.41 7.96l-1.37-1.37c-.4-.4-.92-.59-1.43-.59-.52 0-1.04.2-1.43.59L10.3 9.45l-7.72 7.72c-.78.78-.78 2.05 0 2.83L4 21.41c.39.39.9.59 1.41.59.51 0 1.02-.2 1.41-.59l7.78-7.78 2.81-2.81c.8-.78.8-2.07 0-2.86zM5.41 20L4 18.59l7.72-7.72 1.47 1.35L5.41 20z\"/>\n",
       "  </svg>\n",
       "      </button>\n",
       "      \n",
       "  <style>\n",
       "    .colab-df-container {\n",
       "      display:flex;\n",
       "      flex-wrap:wrap;\n",
       "      gap: 12px;\n",
       "    }\n",
       "\n",
       "    .colab-df-convert {\n",
       "      background-color: #E8F0FE;\n",
       "      border: none;\n",
       "      border-radius: 50%;\n",
       "      cursor: pointer;\n",
       "      display: none;\n",
       "      fill: #1967D2;\n",
       "      height: 32px;\n",
       "      padding: 0 0 0 0;\n",
       "      width: 32px;\n",
       "    }\n",
       "\n",
       "    .colab-df-convert:hover {\n",
       "      background-color: #E2EBFA;\n",
       "      box-shadow: 0px 1px 2px rgba(60, 64, 67, 0.3), 0px 1px 3px 1px rgba(60, 64, 67, 0.15);\n",
       "      fill: #174EA6;\n",
       "    }\n",
       "\n",
       "    [theme=dark] .colab-df-convert {\n",
       "      background-color: #3B4455;\n",
       "      fill: #D2E3FC;\n",
       "    }\n",
       "\n",
       "    [theme=dark] .colab-df-convert:hover {\n",
       "      background-color: #434B5C;\n",
       "      box-shadow: 0px 1px 3px 1px rgba(0, 0, 0, 0.15);\n",
       "      filter: drop-shadow(0px 1px 2px rgba(0, 0, 0, 0.3));\n",
       "      fill: #FFFFFF;\n",
       "    }\n",
       "  </style>\n",
       "\n",
       "      <script>\n",
       "        const buttonEl =\n",
       "          document.querySelector('#df-9781e0f6-f22e-4ce1-a21b-a59c01176f95 button.colab-df-convert');\n",
       "        buttonEl.style.display =\n",
       "          google.colab.kernel.accessAllowed ? 'block' : 'none';\n",
       "\n",
       "        async function convertToInteractive(key) {\n",
       "          const element = document.querySelector('#df-9781e0f6-f22e-4ce1-a21b-a59c01176f95');\n",
       "          const dataTable =\n",
       "            await google.colab.kernel.invokeFunction('convertToInteractive',\n",
       "                                                     [key], {});\n",
       "          if (!dataTable) return;\n",
       "\n",
       "          const docLinkHtml = 'Like what you see? Visit the ' +\n",
       "            '<a target=\"_blank\" href=https://colab.research.google.com/notebooks/data_table.ipynb>data table notebook</a>'\n",
       "            + ' to learn more about interactive tables.';\n",
       "          element.innerHTML = '';\n",
       "          dataTable['output_type'] = 'display_data';\n",
       "          await google.colab.output.renderOutput(dataTable, element);\n",
       "          const docLink = document.createElement('div');\n",
       "          docLink.innerHTML = docLinkHtml;\n",
       "          element.appendChild(docLink);\n",
       "        }\n",
       "      </script>\n",
       "    </div>\n",
       "  </div>\n",
       "  "
      ],
      "text/plain": [
       "                  datetime  season  holiday  workingday  weather   temp  \\\n",
       "5341   2011-12-16 15:00:00       4        0           1        2  13.12   \n",
       "3220   2011-08-04 02:00:00       3        0           1        2  27.06   \n",
       "3818   2011-09-10 02:00:00       3        0           0        2  24.60   \n",
       "10388  2012-11-18 06:00:00       4        0           0        1  11.48   \n",
       "6415   2012-03-04 13:00:00       1        0           0        1  14.76   \n",
       "7217   2012-04-19 02:00:00       2        0           1        2  17.22   \n",
       "10475  2012-12-02 21:00:00       4        0           0        2  18.04   \n",
       "2356   2011-06-06 02:00:00       2        0           1        1  23.78   \n",
       "7240   2012-05-01 01:00:00       2        0           1        2  20.50   \n",
       "5934   2012-02-03 11:00:00       1        0           1        1  13.12   \n",
       "\n",
       "        atemp  humidity  windspeed  casual  registered  count  \n",
       "5341   15.150        45    19.9995      12         141    153  \n",
       "3220   29.545        94     6.0032       2           5      7  \n",
       "3818   25.000        97     7.0015      18          46     64  \n",
       "10388  13.635        81    11.0014       2          13     15  \n",
       "6415   16.665        37    23.9994     108         256    364  \n",
       "7217   21.210        77     0.0000       2           4      6  \n",
       "10475  21.970        77    15.0013       8          91     99  \n",
       "2356   27.275        88     7.0015       4           4      8  \n",
       "7240   24.240        63     8.9981       0          21     21  \n",
       "5934   15.150        53    19.9995      15         149    164  "
      ]
     },
     "execution_count": 4,
     "metadata": {},
     "output_type": "execute_result"
    }
   ],
   "source": [
    "# Loading the dataset -\n",
    "df=pd.read_csv('bike_sharing.csv')\n",
    "df.sample(10)"
   ]
  },
  {
   "cell_type": "code",
   "execution_count": null,
   "id": "WO2Y15xQZLzh",
   "metadata": {
    "colab": {
     "base_uri": "https://localhost:8080/"
    },
    "id": "WO2Y15xQZLzh",
    "outputId": "270bdb17-c133-4499-d1bf-59fbe8b8ebf7"
   },
   "outputs": [
    {
     "name": "stdout",
     "output_type": "stream",
     "text": [
      "No. of rows :  10886\n"
     ]
    }
   ],
   "source": [
    "# Shape of the dataset -\n",
    "print(\"No. of rows : \", df.shape[0])"
   ]
  },
  {
   "cell_type": "code",
   "execution_count": null,
   "id": "aa0e522d",
   "metadata": {
    "colab": {
     "base_uri": "https://localhost:8080/"
    },
    "id": "aa0e522d",
    "outputId": "ec0bbd26-7536-4bd5-afd0-84263b11cd8f"
   },
   "outputs": [
    {
     "name": "stdout",
     "output_type": "stream",
     "text": [
      "<class 'pandas.core.frame.DataFrame'>\n",
      "RangeIndex: 10886 entries, 0 to 10885\n",
      "Data columns (total 12 columns):\n",
      " #   Column      Non-Null Count  Dtype  \n",
      "---  ------      --------------  -----  \n",
      " 0   datetime    10886 non-null  object \n",
      " 1   season      10886 non-null  int64  \n",
      " 2   holiday     10886 non-null  int64  \n",
      " 3   workingday  10886 non-null  int64  \n",
      " 4   weather     10886 non-null  int64  \n",
      " 5   temp        10886 non-null  float64\n",
      " 6   atemp       10886 non-null  float64\n",
      " 7   humidity    10886 non-null  int64  \n",
      " 8   windspeed   10886 non-null  float64\n",
      " 9   casual      10886 non-null  int64  \n",
      " 10  registered  10886 non-null  int64  \n",
      " 11  count       10886 non-null  int64  \n",
      "dtypes: float64(3), int64(8), object(1)\n",
      "memory usage: 1020.7+ KB\n"
     ]
    }
   ],
   "source": [
    "df.info()"
   ]
  },
  {
   "cell_type": "code",
   "execution_count": null,
   "id": "VjYPY00pa-bM",
   "metadata": {
    "colab": {
     "base_uri": "https://localhost:8080/"
    },
    "id": "VjYPY00pa-bM",
    "outputId": "5a54163a-6d41-453d-bc0c-4064cbe07337"
   },
   "outputs": [
    {
     "data": {
      "text/plain": [
       "datetime      0.0\n",
       "season        0.0\n",
       "holiday       0.0\n",
       "workingday    0.0\n",
       "weather       0.0\n",
       "temp          0.0\n",
       "atemp         0.0\n",
       "humidity      0.0\n",
       "windspeed     0.0\n",
       "casual        0.0\n",
       "registered    0.0\n",
       "count         0.0\n",
       "dtype: float64"
      ]
     },
     "execution_count": 7,
     "metadata": {},
     "output_type": "execute_result"
    }
   ],
   "source": [
    "# Checking for null values -\n",
    "(df.isna().sum() / len(df)) * 100"
   ]
  },
  {
   "cell_type": "code",
   "execution_count": null,
   "id": "KryzxlCrf_2S",
   "metadata": {
    "colab": {
     "base_uri": "https://localhost:8080/"
    },
    "id": "KryzxlCrf_2S",
    "outputId": "902c38e9-9741-41cf-c03f-b18045595438"
   },
   "outputs": [
    {
     "name": "stdout",
     "output_type": "stream",
     "text": [
      "No. of duplicate rows:  0\n"
     ]
    }
   ],
   "source": [
    "# Checking for duplicate rows -\n",
    "dup_rows = df[df.duplicated()]\n",
    "print(\"No. of duplicate rows: \", dup_rows.shape[0])"
   ]
  },
  {
   "cell_type": "code",
   "execution_count": null,
   "id": "02a74ed3",
   "metadata": {
    "id": "02a74ed3"
   },
   "outputs": [],
   "source": [
    "def dist_check(df, col_name):\n",
    "  print(\"Unique values : \", df[col_name].unique())\n",
    "  print(\"Value counts : \")\n",
    "  print(df[col_name].value_counts())"
   ]
  },
  {
   "cell_type": "code",
   "execution_count": null,
   "id": "FwUHmL1MVYr_",
   "metadata": {
    "colab": {
     "base_uri": "https://localhost:8080/"
    },
    "id": "FwUHmL1MVYr_",
    "outputId": "116640b8-078b-4398-bcb8-65402415e3a3"
   },
   "outputs": [
    {
     "name": "stdout",
     "output_type": "stream",
     "text": [
      "workingday  -\n",
      "Unique values :  [0 1]\n",
      "Value counts : \n",
      "1    7412\n",
      "0    3474\n",
      "Name: workingday, dtype: int64\n",
      "\n",
      "\n",
      "holiday  -\n",
      "Unique values :  [0 1]\n",
      "Value counts : \n",
      "0    10575\n",
      "1      311\n",
      "Name: holiday, dtype: int64\n",
      "\n",
      "\n",
      "weather  -\n",
      "Unique values :  [1 2 3 4]\n",
      "Value counts : \n",
      "1    7192\n",
      "2    2834\n",
      "3     859\n",
      "4       1\n",
      "Name: weather, dtype: int64\n",
      "\n",
      "\n",
      "season  -\n",
      "Unique values :  [1 2 3 4]\n",
      "Value counts : \n",
      "4    2734\n",
      "2    2733\n",
      "3    2733\n",
      "1    2686\n",
      "Name: season, dtype: int64\n",
      "\n",
      "\n"
     ]
    }
   ],
   "source": [
    "col_list = ['workingday',\t'holiday',\t'weather', 'season']\n",
    "for col in col_list: \n",
    "  print(col, \" -\")\n",
    "  dist_check(df, col)\n",
    "  print(\"\\n\")"
   ]
  },
  {
   "cell_type": "code",
   "execution_count": null,
   "id": "pHW6XwotxmlK",
   "metadata": {
    "colab": {
     "base_uri": "https://localhost:8080/",
     "height": 480
    },
    "id": "pHW6XwotxmlK",
    "outputId": "ba8702e4-03dc-4e91-a8bb-7bce7090cc82"
   },
   "outputs": [
    {
     "data": {
      "image/png": "[encoded data removed]",
      "text/plain": [
       "<Figure size 864x504 with 2 Axes>"
      ]
     },
     "metadata": {
      "needs_background": "light"
     },
     "output_type": "display_data"
    }
   ],
   "source": [
    "# Correlation Heatmap -\n",
    "\n",
    "plt.figure(figsize=(12, 7))\n",
    "sbn.heatmap(df.corr(method='spearman'), \n",
    "            annot=True, cmap='viridis')\n",
    "plt.show()"
   ]
  },
  {
   "cell_type": "markdown",
   "id": "x7bWGa8kxS60",
   "metadata": {
    "id": "x7bWGa8kxS60"
   },
   "source": [
    "from the correlation we can verify some logical points:\n",
    "- feeling temperature or aparent temprature and temp are highly correlated, because they are most of the times approximately the same have a very small diffrerence\n",
    "- count, causal, registered are all correlated to each other because all of them "
   ]
  },
  {
   "cell_type": "code",
   "execution_count": null,
   "id": "7dNduYEbxpd0",
   "metadata": {
    "id": "7dNduYEbxpd0"
   },
   "outputs": [],
   "source": [
    "# Dropping highly correlated columns -\n",
    "dfn = df.drop(columns=['casual', 'registered', 'atemp'])"
   ]
  },
  {
   "cell_type": "code",
   "execution_count": null,
   "id": "8m6UUHFcuZni",
   "metadata": {
    "colab": {
     "base_uri": "https://localhost:8080/",
     "height": 583
    },
    "id": "8m6UUHFcuZni",
    "outputId": "3ba5a8e3-242a-4729-816b-813094f84389"
   },
   "outputs": [
    {
     "data": {
      "image/png": "[encoded data removed]",
      "text/plain": [
       "<Figure size 576x1800 with 4 Axes>"
      ]
     },
     "metadata": {},
     "output_type": "display_data"
    }
   ],
   "source": [
    "# Outlier Detection using Boxplots -\n",
    "\n",
    "sbn.set(style=\"whitegrid\")\n",
    "fig = plt.figure(figsize=(8, 25))\n",
    "fig.subplots_adjust(right=1.5)\n",
    "\n",
    "for plot in range(1, len(col_list)+1):\n",
    "    plt.subplot(5, 2, plot)\n",
    "    sbn.boxplot(x=dfn[col_list[plot-1]], y=dfn['count'])\n",
    "\n",
    "plt.show()"
   ]
  },
  {
   "cell_type": "code",
   "execution_count": null,
   "id": "W2wh_RI_yUZa",
   "metadata": {
    "colab": {
     "base_uri": "https://localhost:8080/",
     "height": 355
    },
    "id": "W2wh_RI_yUZa",
    "outputId": "2218158e-c166-4ed2-c0e3-2ca78e68b40c"
   },
   "outputs": [
    {
     "data": {
      "image/png": "[encoded data removed]",
      "text/plain": [
       "<Figure size 1008x360 with 2 Axes>"
      ]
     },
     "metadata": {},
     "output_type": "display_data"
    }
   ],
   "source": [
    "# Checking distribution of 'count' column -\n",
    "plt.figure(figsize=(14, 5))\n",
    "    \n",
    "#Histogram\n",
    "plt.subplot(1, 2, 1)\n",
    "sbn.distplot(dfn['count'], bins=10)\n",
    "\n",
    "#Boxplot\n",
    "plt.subplot(1, 2, 2)\n",
    "sbn.boxplot(y=dfn['count'])\n",
    "plt.title('Boxplot')\n",
    "\n",
    "plt.show()"
   ]
  },
  {
   "cell_type": "markdown",
   "id": "wQO3FK6frbSk",
   "metadata": {
    "id": "wQO3FK6frbSk"
   },
   "source": [
    "We can see that outliers are present in the given columns. We need to figure out a way to deal with them before starting with the tests."
   ]
  },
  {
   "cell_type": "markdown",
   "id": "kjAUen1e0ajV",
   "metadata": {
    "id": "kjAUen1e0ajV"
   },
   "source": [
    "We have multiple options available on how to proceed with these outlier values.\n",
    "\n",
    "1. Try to understand if these values make any sense according to the business problem. If yes, then we can keep them as it is.\n",
    "2. In case these outliers are some invalid values which do not make much sense, we can remove them using the IQR.\n",
    "3. Or we can apply a log transformation on the data to reduce the effect of these outliers."
   ]
  },
  {
   "cell_type": "markdown",
   "id": "MBIoDwNFnCEi",
   "metadata": {
    "id": "MBIoDwNFnCEi"
   },
   "source": [
    "1. -\n",
    "* The outliers in the given data set are the no. of bike rides per session/day. These values could sometimes be higher than expected due to increase in the crowd on certain days/occasions. \n",
    "* These data values are important for capturing variations in the data. Hence, in this case, the ideal approach of dealing with outliers would be to leave them as it is. \n",
    "* But since the tests that we are going to apply are based on the assumption that the dataset is normal or near normal, we will drop those outlier values using the IQR method."
   ]
  },
  {
   "cell_type": "code",
   "execution_count": null,
   "id": "lHlgzgDT19zM",
   "metadata": {
    "colab": {
     "base_uri": "https://localhost:8080/",
     "height": 355
    },
    "id": "lHlgzgDT19zM",
    "outputId": "3a9a4451-68e5-477d-9d05-e4bb8bd0533c"
   },
   "outputs": [
    {
     "data": {
      "image/png": "[encoded data removed]",
      "text/plain": [
       "<Figure size 1008x360 with 2 Axes>"
      ]
     },
     "metadata": {},
     "output_type": "display_data"
    }
   ],
   "source": [
    "# 2. \n",
    "# Checking distribution after applying log transformation -\n",
    "plt.figure(figsize=(14, 5))\n",
    "    \n",
    "#Histogram\n",
    "plt.subplot(1, 2, 1)\n",
    "sbn.distplot(np.log(dfn['count']), bins=10)\n",
    "\n",
    "#Boxplot\n",
    "plt.subplot(1, 2, 2)\n",
    "sbn.boxplot(y=np.log(dfn['count']))\n",
    "plt.title('Boxplot')\n",
    "\n",
    "plt.show()"
   ]
  },
  {
   "cell_type": "code",
   "execution_count": null,
   "id": "c7c19d8e",
   "metadata": {
    "id": "c7c19d8e"
   },
   "outputs": [],
   "source": [
    "# # 3. \n",
    "# # Outlier Treatment using IQR (not needed but, we can do it) -\n",
    "\n",
    "# q1 = dfn['count'].quantile(0.25)\n",
    "# q3 = dfn['count'].quantile(0.75)\n",
    "# iqr = q3-q1\n",
    "\n",
    "# dfn = dfn[(dfn['count']>(q1-1.5*iqr) ) & (dfn['count']<(q3+1.5*iqr))]\n",
    "\n",
    "# print(\"No. of rows : \", dfn.shape[0])"
   ]
  },
  {
   "cell_type": "markdown",
   "id": "axA5s7YUYTDR",
   "metadata": {
    "id": "axA5s7YUYTDR"
   },
   "source": [
    "#### Aggregating the total no. of bike rides based on the given factors -"
   ]
  },
  {
   "cell_type": "code",
   "execution_count": null,
   "id": "olrYnZaFYTta",
   "metadata": {
    "colab": {
     "base_uri": "https://localhost:8080/",
     "height": 143
    },
    "id": "olrYnZaFYTta",
    "outputId": "7717e067-8538-4c6d-d276-9633193e30f1"
   },
   "outputs": [
    {
     "data": {
      "text/html": [
       "\n",
       "  <div id=\"df-f6f2be4e-c4f4-4fd6-be69-581f4b062390\">\n",
       "    <div class=\"colab-df-container\">\n",
       "      <div>\n",
       "<style scoped>\n",
       "    .dataframe tbody tr th:only-of-type {\n",
       "        vertical-align: middle;\n",
       "    }\n",
       "\n",
       "    .dataframe tbody tr th {\n",
       "        vertical-align: top;\n",
       "    }\n",
       "\n",
       "    .dataframe thead th {\n",
       "        text-align: right;\n",
       "    }\n",
       "</style>\n",
       "<table border=\"1\" class=\"dataframe\">\n",
       "  <thead>\n",
       "    <tr style=\"text-align: right;\">\n",
       "      <th></th>\n",
       "      <th>count</th>\n",
       "      <th>mean</th>\n",
       "      <th>std</th>\n",
       "      <th>min</th>\n",
       "      <th>25%</th>\n",
       "      <th>50%</th>\n",
       "      <th>75%</th>\n",
       "      <th>max</th>\n",
       "    </tr>\n",
       "    <tr>\n",
       "      <th>workingday</th>\n",
       "      <th></th>\n",
       "      <th></th>\n",
       "      <th></th>\n",
       "      <th></th>\n",
       "      <th></th>\n",
       "      <th></th>\n",
       "      <th></th>\n",
       "      <th></th>\n",
       "    </tr>\n",
       "  </thead>\n",
       "  <tbody>\n",
       "    <tr>\n",
       "      <th>0</th>\n",
       "      <td>3474.0</td>\n",
       "      <td>188.506621</td>\n",
       "      <td>173.724015</td>\n",
       "      <td>1.0</td>\n",
       "      <td>44.0</td>\n",
       "      <td>128.0</td>\n",
       "      <td>304.0</td>\n",
       "      <td>783.0</td>\n",
       "    </tr>\n",
       "    <tr>\n",
       "      <th>1</th>\n",
       "      <td>7412.0</td>\n",
       "      <td>193.011873</td>\n",
       "      <td>184.513659</td>\n",
       "      <td>1.0</td>\n",
       "      <td>41.0</td>\n",
       "      <td>151.0</td>\n",
       "      <td>277.0</td>\n",
       "      <td>977.0</td>\n",
       "    </tr>\n",
       "  </tbody>\n",
       "</table>\n",
       "</div>\n",
       "      <button class=\"colab-df-convert\" onclick=\"convertToInteractive('df-f6f2be4e-c4f4-4fd6-be69-581f4b062390')\"\n",
       "              title=\"Convert this dataframe to an interactive table.\"\n",
       "              style=\"display:none;\">\n",
       "        \n",
       "  <svg xmlns=\"http://www.w3.org/2000/svg\" height=\"24px\"viewBox=\"0 0 24 24\"\n",
       "       width=\"24px\">\n",
       "    <path d=\"M0 0h24v24H0V0z\" fill=\"none\"/>\n",
       "    <path d=\"M18.56 5.44l.94 2.06.94-2.06 2.06-.94-2.06-.94-.94-2.06-.94 2.06-2.06.94zm-11 1L8.5 8.5l.94-2.06 2.06-.94-2.06-.94L8.5 2.5l-.94 2.06-2.06.94zm10 10l.94 2.06.94-2.06 2.06-.94-2.06-.94-.94-2.06-.94 2.06-2.06.94z\"/><path d=\"M17.41 7.96l-1.37-1.37c-.4-.4-.92-.59-1.43-.59-.52 0-1.04.2-1.43.59L10.3 9.45l-7.72 7.72c-.78.78-.78 2.05 0 2.83L4 21.41c.39.39.9.59 1.41.59.51 0 1.02-.2 1.41-.59l7.78-7.78 2.81-2.81c.8-.78.8-2.07 0-2.86zM5.41 20L4 18.59l7.72-7.72 1.47 1.35L5.41 20z\"/>\n",
       "  </svg>\n",
       "      </button>\n",
       "      \n",
       "  <style>\n",
       "    .colab-df-container {\n",
       "      display:flex;\n",
       "      flex-wrap:wrap;\n",
       "      gap: 12px;\n",
       "    }\n",
       "\n",
       "    .colab-df-convert {\n",
       "      background-color: #E8F0FE;\n",
       "      border: none;\n",
       "      border-radius: 50%;\n",
       "      cursor: pointer;\n",
       "      display: none;\n",
       "      fill: #1967D2;\n",
       "      height: 32px;\n",
       "      padding: 0 0 0 0;\n",
       "      width: 32px;\n",
       "    }\n",
       "\n",
       "    .colab-df-convert:hover {\n",
       "      background-color: #E2EBFA;\n",
       "      box-shadow: 0px 1px 2px rgba(60, 64, 67, 0.3), 0px 1px 3px 1px rgba(60, 64, 67, 0.15);\n",
       "      fill: #174EA6;\n",
       "    }\n",
       "\n",
       "    [theme=dark] .colab-df-convert {\n",
       "      background-color: #3B4455;\n",
       "      fill: #D2E3FC;\n",
       "    }\n",
       "\n",
       "    [theme=dark] .colab-df-convert:hover {\n",
       "      background-color: #434B5C;\n",
       "      box-shadow: 0px 1px 3px 1px rgba(0, 0, 0, 0.15);\n",
       "      filter: drop-shadow(0px 1px 2px rgba(0, 0, 0, 0.3));\n",
       "      fill: #FFFFFF;\n",
       "    }\n",
       "  </style>\n",
       "\n",
       "      <script>\n",
       "        const buttonEl =\n",
       "          document.querySelector('#df-f6f2be4e-c4f4-4fd6-be69-581f4b062390 button.colab-df-convert');\n",
       "        buttonEl.style.display =\n",
       "          google.colab.kernel.accessAllowed ? 'block' : 'none';\n",
       "\n",
       "        async function convertToInteractive(key) {\n",
       "          const element = document.querySelector('#df-f6f2be4e-c4f4-4fd6-be69-581f4b062390');\n",
       "          const dataTable =\n",
       "            await google.colab.kernel.invokeFunction('convertToInteractive',\n",
       "                                                     [key], {});\n",
       "          if (!dataTable) return;\n",
       "\n",
       "          const docLinkHtml = 'Like what you see? Visit the ' +\n",
       "            '<a target=\"_blank\" href=https://colab.research.google.com/notebooks/data_table.ipynb>data table notebook</a>'\n",
       "            + ' to learn more about interactive tables.';\n",
       "          element.innerHTML = '';\n",
       "          dataTable['output_type'] = 'display_data';\n",
       "          await google.colab.output.renderOutput(dataTable, element);\n",
       "          const docLink = document.createElement('div');\n",
       "          docLink.innerHTML = docLinkHtml;\n",
       "          element.appendChild(docLink);\n",
       "        }\n",
       "      </script>\n",
       "    </div>\n",
       "  </div>\n",
       "  "
      ],
      "text/plain": [
       "             count        mean         std  min   25%    50%    75%    max\n",
       "workingday                                                                \n",
       "0           3474.0  188.506621  173.724015  1.0  44.0  128.0  304.0  783.0\n",
       "1           7412.0  193.011873  184.513659  1.0  41.0  151.0  277.0  977.0"
      ]
     },
     "execution_count": 17,
     "metadata": {},
     "output_type": "execute_result"
    }
   ],
   "source": [
    "# 1. Workingday -\n",
    "pd.DataFrame(dfn.groupby('workingday')['count'].describe())"
   ]
  },
  {
   "cell_type": "code",
   "execution_count": null,
   "id": "rKVDP5PpYTyT",
   "metadata": {
    "colab": {
     "base_uri": "https://localhost:8080/",
     "height": 143
    },
    "id": "rKVDP5PpYTyT",
    "outputId": "d584edd2-5f30-4bb2-b76b-e191597d482d"
   },
   "outputs": [
    {
     "data": {
      "text/html": [
       "\n",
       "  <div id=\"df-6a643414-b7f3-42be-8349-0fb79ecb8732\">\n",
       "    <div class=\"colab-df-container\">\n",
       "      <div>\n",
       "<style scoped>\n",
       "    .dataframe tbody tr th:only-of-type {\n",
       "        vertical-align: middle;\n",
       "    }\n",
       "\n",
       "    .dataframe tbody tr th {\n",
       "        vertical-align: top;\n",
       "    }\n",
       "\n",
       "    .dataframe thead th {\n",
       "        text-align: right;\n",
       "    }\n",
       "</style>\n",
       "<table border=\"1\" class=\"dataframe\">\n",
       "  <thead>\n",
       "    <tr style=\"text-align: right;\">\n",
       "      <th></th>\n",
       "      <th>count</th>\n",
       "      <th>mean</th>\n",
       "      <th>std</th>\n",
       "      <th>min</th>\n",
       "      <th>25%</th>\n",
       "      <th>50%</th>\n",
       "      <th>75%</th>\n",
       "      <th>max</th>\n",
       "    </tr>\n",
       "    <tr>\n",
       "      <th>holiday</th>\n",
       "      <th></th>\n",
       "      <th></th>\n",
       "      <th></th>\n",
       "      <th></th>\n",
       "      <th></th>\n",
       "      <th></th>\n",
       "      <th></th>\n",
       "      <th></th>\n",
       "    </tr>\n",
       "  </thead>\n",
       "  <tbody>\n",
       "    <tr>\n",
       "      <th>0</th>\n",
       "      <td>10575.0</td>\n",
       "      <td>191.741655</td>\n",
       "      <td>181.513131</td>\n",
       "      <td>1.0</td>\n",
       "      <td>43.0</td>\n",
       "      <td>145.0</td>\n",
       "      <td>283.0</td>\n",
       "      <td>977.0</td>\n",
       "    </tr>\n",
       "    <tr>\n",
       "      <th>1</th>\n",
       "      <td>311.0</td>\n",
       "      <td>185.877814</td>\n",
       "      <td>168.300531</td>\n",
       "      <td>1.0</td>\n",
       "      <td>38.5</td>\n",
       "      <td>133.0</td>\n",
       "      <td>308.0</td>\n",
       "      <td>712.0</td>\n",
       "    </tr>\n",
       "  </tbody>\n",
       "</table>\n",
       "</div>\n",
       "      <button class=\"colab-df-convert\" onclick=\"convertToInteractive('df-6a643414-b7f3-42be-8349-0fb79ecb8732')\"\n",
       "              title=\"Convert this dataframe to an interactive table.\"\n",
       "              style=\"display:none;\">\n",
       "        \n",
       "  <svg xmlns=\"http://www.w3.org/2000/svg\" height=\"24px\"viewBox=\"0 0 24 24\"\n",
       "       width=\"24px\">\n",
       "    <path d=\"M0 0h24v24H0V0z\" fill=\"none\"/>\n",
       "    <path d=\"M18.56 5.44l.94 2.06.94-2.06 2.06-.94-2.06-.94-.94-2.06-.94 2.06-2.06.94zm-11 1L8.5 8.5l.94-2.06 2.06-.94-2.06-.94L8.5 2.5l-.94 2.06-2.06.94zm10 10l.94 2.06.94-2.06 2.06-.94-2.06-.94-.94-2.06-.94 2.06-2.06.94z\"/><path d=\"M17.41 7.96l-1.37-1.37c-.4-.4-.92-.59-1.43-.59-.52 0-1.04.2-1.43.59L10.3 9.45l-7.72 7.72c-.78.78-.78 2.05 0 2.83L4 21.41c.39.39.9.59 1.41.59.51 0 1.02-.2 1.41-.59l7.78-7.78 2.81-2.81c.8-.78.8-2.07 0-2.86zM5.41 20L4 18.59l7.72-7.72 1.47 1.35L5.41 20z\"/>\n",
       "  </svg>\n",
       "      </button>\n",
       "      \n",
       "  <style>\n",
       "    .colab-df-container {\n",
       "      display:flex;\n",
       "      flex-wrap:wrap;\n",
       "      gap: 12px;\n",
       "    }\n",
       "\n",
       "    .colab-df-convert {\n",
       "      background-color: #E8F0FE;\n",
       "      border: none;\n",
       "      border-radius: 50%;\n",
       "      cursor: pointer;\n",
       "      display: none;\n",
       "      fill: #1967D2;\n",
       "      height: 32px;\n",
       "      padding: 0 0 0 0;\n",
       "      width: 32px;\n",
       "    }\n",
       "\n",
       "    .colab-df-convert:hover {\n",
       "      background-color: #E2EBFA;\n",
       "      box-shadow: 0px 1px 2px rgba(60, 64, 67, 0.3), 0px 1px 3px 1px rgba(60, 64, 67, 0.15);\n",
       "      fill: #174EA6;\n",
       "    }\n",
       "\n",
       "    [theme=dark] .colab-df-convert {\n",
       "      background-color: #3B4455;\n",
       "      fill: #D2E3FC;\n",
       "    }\n",
       "\n",
       "    [theme=dark] .colab-df-convert:hover {\n",
       "      background-color: #434B5C;\n",
       "      box-shadow: 0px 1px 3px 1px rgba(0, 0, 0, 0.15);\n",
       "      filter: drop-shadow(0px 1px 2px rgba(0, 0, 0, 0.3));\n",
       "      fill: #FFFFFF;\n",
       "    }\n",
       "  </style>\n",
       "\n",
       "      <script>\n",
       "        const buttonEl =\n",
       "          document.querySelector('#df-6a643414-b7f3-42be-8349-0fb79ecb8732 button.colab-df-convert');\n",
       "        buttonEl.style.display =\n",
       "          google.colab.kernel.accessAllowed ? 'block' : 'none';\n",
       "\n",
       "        async function convertToInteractive(key) {\n",
       "          const element = document.querySelector('#df-6a643414-b7f3-42be-8349-0fb79ecb8732');\n",
       "          const dataTable =\n",
       "            await google.colab.kernel.invokeFunction('convertToInteractive',\n",
       "                                                     [key], {});\n",
       "          if (!dataTable) return;\n",
       "\n",
       "          const docLinkHtml = 'Like what you see? Visit the ' +\n",
       "            '<a target=\"_blank\" href=https://colab.research.google.com/notebooks/data_table.ipynb>data table notebook</a>'\n",
       "            + ' to learn more about interactive tables.';\n",
       "          element.innerHTML = '';\n",
       "          dataTable['output_type'] = 'display_data';\n",
       "          await google.colab.output.renderOutput(dataTable, element);\n",
       "          const docLink = document.createElement('div');\n",
       "          docLink.innerHTML = docLinkHtml;\n",
       "          element.appendChild(docLink);\n",
       "        }\n",
       "      </script>\n",
       "    </div>\n",
       "  </div>\n",
       "  "
      ],
      "text/plain": [
       "           count        mean         std  min   25%    50%    75%    max\n",
       "holiday                                                                 \n",
       "0        10575.0  191.741655  181.513131  1.0  43.0  145.0  283.0  977.0\n",
       "1          311.0  185.877814  168.300531  1.0  38.5  133.0  308.0  712.0"
      ]
     },
     "execution_count": 18,
     "metadata": {},
     "output_type": "execute_result"
    }
   ],
   "source": [
    "# 2. Holiday -\n",
    "pd.DataFrame(dfn.groupby('holiday')['count'].describe())"
   ]
  },
  {
   "cell_type": "code",
   "execution_count": null,
   "id": "YQEK55YNYT3P",
   "metadata": {
    "colab": {
     "base_uri": "https://localhost:8080/",
     "height": 206
    },
    "id": "YQEK55YNYT3P",
    "outputId": "21bd5c9d-a719-47de-e489-b45795453e46"
   },
   "outputs": [
    {
     "data": {
      "text/html": [
       "\n",
       "  <div id=\"df-c40d79eb-0f6a-47f9-a5cb-2c89b4dfcdaa\">\n",
       "    <div class=\"colab-df-container\">\n",
       "      <div>\n",
       "<style scoped>\n",
       "    .dataframe tbody tr th:only-of-type {\n",
       "        vertical-align: middle;\n",
       "    }\n",
       "\n",
       "    .dataframe tbody tr th {\n",
       "        vertical-align: top;\n",
       "    }\n",
       "\n",
       "    .dataframe thead th {\n",
       "        text-align: right;\n",
       "    }\n",
       "</style>\n",
       "<table border=\"1\" class=\"dataframe\">\n",
       "  <thead>\n",
       "    <tr style=\"text-align: right;\">\n",
       "      <th></th>\n",
       "      <th>count</th>\n",
       "      <th>mean</th>\n",
       "      <th>std</th>\n",
       "      <th>min</th>\n",
       "      <th>25%</th>\n",
       "      <th>50%</th>\n",
       "      <th>75%</th>\n",
       "      <th>max</th>\n",
       "    </tr>\n",
       "    <tr>\n",
       "      <th>season</th>\n",
       "      <th></th>\n",
       "      <th></th>\n",
       "      <th></th>\n",
       "      <th></th>\n",
       "      <th></th>\n",
       "      <th></th>\n",
       "      <th></th>\n",
       "      <th></th>\n",
       "    </tr>\n",
       "  </thead>\n",
       "  <tbody>\n",
       "    <tr>\n",
       "      <th>1</th>\n",
       "      <td>2686.0</td>\n",
       "      <td>116.343261</td>\n",
       "      <td>125.273974</td>\n",
       "      <td>1.0</td>\n",
       "      <td>24.0</td>\n",
       "      <td>78.0</td>\n",
       "      <td>164.0</td>\n",
       "      <td>801.0</td>\n",
       "    </tr>\n",
       "    <tr>\n",
       "      <th>2</th>\n",
       "      <td>2733.0</td>\n",
       "      <td>215.251372</td>\n",
       "      <td>192.007843</td>\n",
       "      <td>1.0</td>\n",
       "      <td>49.0</td>\n",
       "      <td>172.0</td>\n",
       "      <td>321.0</td>\n",
       "      <td>873.0</td>\n",
       "    </tr>\n",
       "    <tr>\n",
       "      <th>3</th>\n",
       "      <td>2733.0</td>\n",
       "      <td>234.417124</td>\n",
       "      <td>197.151001</td>\n",
       "      <td>1.0</td>\n",
       "      <td>68.0</td>\n",
       "      <td>195.0</td>\n",
       "      <td>347.0</td>\n",
       "      <td>977.0</td>\n",
       "    </tr>\n",
       "    <tr>\n",
       "      <th>4</th>\n",
       "      <td>2734.0</td>\n",
       "      <td>198.988296</td>\n",
       "      <td>177.622409</td>\n",
       "      <td>1.0</td>\n",
       "      <td>51.0</td>\n",
       "      <td>161.0</td>\n",
       "      <td>294.0</td>\n",
       "      <td>948.0</td>\n",
       "    </tr>\n",
       "  </tbody>\n",
       "</table>\n",
       "</div>\n",
       "      <button class=\"colab-df-convert\" onclick=\"convertToInteractive('df-c40d79eb-0f6a-47f9-a5cb-2c89b4dfcdaa')\"\n",
       "              title=\"Convert this dataframe to an interactive table.\"\n",
       "              style=\"display:none;\">\n",
       "        \n",
       "  <svg xmlns=\"http://www.w3.org/2000/svg\" height=\"24px\"viewBox=\"0 0 24 24\"\n",
       "       width=\"24px\">\n",
       "    <path d=\"M0 0h24v24H0V0z\" fill=\"none\"/>\n",
       "    <path d=\"M18.56 5.44l.94 2.06.94-2.06 2.06-.94-2.06-.94-.94-2.06-.94 2.06-2.06.94zm-11 1L8.5 8.5l.94-2.06 2.06-.94-2.06-.94L8.5 2.5l-.94 2.06-2.06.94zm10 10l.94 2.06.94-2.06 2.06-.94-2.06-.94-.94-2.06-.94 2.06-2.06.94z\"/><path d=\"M17.41 7.96l-1.37-1.37c-.4-.4-.92-.59-1.43-.59-.52 0-1.04.2-1.43.59L10.3 9.45l-7.72 7.72c-.78.78-.78 2.05 0 2.83L4 21.41c.39.39.9.59 1.41.59.51 0 1.02-.2 1.41-.59l7.78-7.78 2.81-2.81c.8-.78.8-2.07 0-2.86zM5.41 20L4 18.59l7.72-7.72 1.47 1.35L5.41 20z\"/>\n",
       "  </svg>\n",
       "      </button>\n",
       "      \n",
       "  <style>\n",
       "    .colab-df-container {\n",
       "      display:flex;\n",
       "      flex-wrap:wrap;\n",
       "      gap: 12px;\n",
       "    }\n",
       "\n",
       "    .colab-df-convert {\n",
       "      background-color: #E8F0FE;\n",
       "      border: none;\n",
       "      border-radius: 50%;\n",
       "      cursor: pointer;\n",
       "      display: none;\n",
       "      fill: #1967D2;\n",
       "      height: 32px;\n",
       "      padding: 0 0 0 0;\n",
       "      width: 32px;\n",
       "    }\n",
       "\n",
       "    .colab-df-convert:hover {\n",
       "      background-color: #E2EBFA;\n",
       "      box-shadow: 0px 1px 2px rgba(60, 64, 67, 0.3), 0px 1px 3px 1px rgba(60, 64, 67, 0.15);\n",
       "      fill: #174EA6;\n",
       "    }\n",
       "\n",
       "    [theme=dark] .colab-df-convert {\n",
       "      background-color: #3B4455;\n",
       "      fill: #D2E3FC;\n",
       "    }\n",
       "\n",
       "    [theme=dark] .colab-df-convert:hover {\n",
       "      background-color: #434B5C;\n",
       "      box-shadow: 0px 1px 3px 1px rgba(0, 0, 0, 0.15);\n",
       "      filter: drop-shadow(0px 1px 2px rgba(0, 0, 0, 0.3));\n",
       "      fill: #FFFFFF;\n",
       "    }\n",
       "  </style>\n",
       "\n",
       "      <script>\n",
       "        const buttonEl =\n",
       "          document.querySelector('#df-c40d79eb-0f6a-47f9-a5cb-2c89b4dfcdaa button.colab-df-convert');\n",
       "        buttonEl.style.display =\n",
       "          google.colab.kernel.accessAllowed ? 'block' : 'none';\n",
       "\n",
       "        async function convertToInteractive(key) {\n",
       "          const element = document.querySelector('#df-c40d79eb-0f6a-47f9-a5cb-2c89b4dfcdaa');\n",
       "          const dataTable =\n",
       "            await google.colab.kernel.invokeFunction('convertToInteractive',\n",
       "                                                     [key], {});\n",
       "          if (!dataTable) return;\n",
       "\n",
       "          const docLinkHtml = 'Like what you see? Visit the ' +\n",
       "            '<a target=\"_blank\" href=https://colab.research.google.com/notebooks/data_table.ipynb>data table notebook</a>'\n",
       "            + ' to learn more about interactive tables.';\n",
       "          element.innerHTML = '';\n",
       "          dataTable['output_type'] = 'display_data';\n",
       "          await google.colab.output.renderOutput(dataTable, element);\n",
       "          const docLink = document.createElement('div');\n",
       "          docLink.innerHTML = docLinkHtml;\n",
       "          element.appendChild(docLink);\n",
       "        }\n",
       "      </script>\n",
       "    </div>\n",
       "  </div>\n",
       "  "
      ],
      "text/plain": [
       "         count        mean         std  min   25%    50%    75%    max\n",
       "season                                                                \n",
       "1       2686.0  116.343261  125.273974  1.0  24.0   78.0  164.0  801.0\n",
       "2       2733.0  215.251372  192.007843  1.0  49.0  172.0  321.0  873.0\n",
       "3       2733.0  234.417124  197.151001  1.0  68.0  195.0  347.0  977.0\n",
       "4       2734.0  198.988296  177.622409  1.0  51.0  161.0  294.0  948.0"
      ]
     },
     "execution_count": 19,
     "metadata": {},
     "output_type": "execute_result"
    }
   ],
   "source": [
    "# 3. Season -\n",
    "pd.DataFrame(dfn.groupby('season')['count'].describe())"
   ]
  },
  {
   "cell_type": "code",
   "execution_count": null,
   "id": "egDRLSrwYT-n",
   "metadata": {
    "colab": {
     "base_uri": "https://localhost:8080/",
     "height": 206
    },
    "id": "egDRLSrwYT-n",
    "outputId": "bcebab7a-ff41-459d-caab-af2f206b5bef"
   },
   "outputs": [
    {
     "data": {
      "text/html": [
       "\n",
       "  <div id=\"df-f73c5230-eca8-4192-b5ef-12fc2de58081\">\n",
       "    <div class=\"colab-df-container\">\n",
       "      <div>\n",
       "<style scoped>\n",
       "    .dataframe tbody tr th:only-of-type {\n",
       "        vertical-align: middle;\n",
       "    }\n",
       "\n",
       "    .dataframe tbody tr th {\n",
       "        vertical-align: top;\n",
       "    }\n",
       "\n",
       "    .dataframe thead th {\n",
       "        text-align: right;\n",
       "    }\n",
       "</style>\n",
       "<table border=\"1\" class=\"dataframe\">\n",
       "  <thead>\n",
       "    <tr style=\"text-align: right;\">\n",
       "      <th></th>\n",
       "      <th>count</th>\n",
       "      <th>mean</th>\n",
       "      <th>std</th>\n",
       "      <th>min</th>\n",
       "      <th>25%</th>\n",
       "      <th>50%</th>\n",
       "      <th>75%</th>\n",
       "      <th>max</th>\n",
       "    </tr>\n",
       "    <tr>\n",
       "      <th>weather</th>\n",
       "      <th></th>\n",
       "      <th></th>\n",
       "      <th></th>\n",
       "      <th></th>\n",
       "      <th></th>\n",
       "      <th></th>\n",
       "      <th></th>\n",
       "      <th></th>\n",
       "    </tr>\n",
       "  </thead>\n",
       "  <tbody>\n",
       "    <tr>\n",
       "      <th>1</th>\n",
       "      <td>7192.0</td>\n",
       "      <td>205.236791</td>\n",
       "      <td>187.959566</td>\n",
       "      <td>1.0</td>\n",
       "      <td>48.0</td>\n",
       "      <td>161.0</td>\n",
       "      <td>305.0</td>\n",
       "      <td>977.0</td>\n",
       "    </tr>\n",
       "    <tr>\n",
       "      <th>2</th>\n",
       "      <td>2834.0</td>\n",
       "      <td>178.955540</td>\n",
       "      <td>168.366413</td>\n",
       "      <td>1.0</td>\n",
       "      <td>41.0</td>\n",
       "      <td>134.0</td>\n",
       "      <td>264.0</td>\n",
       "      <td>890.0</td>\n",
       "    </tr>\n",
       "    <tr>\n",
       "      <th>3</th>\n",
       "      <td>859.0</td>\n",
       "      <td>118.846333</td>\n",
       "      <td>138.581297</td>\n",
       "      <td>1.0</td>\n",
       "      <td>23.0</td>\n",
       "      <td>71.0</td>\n",
       "      <td>161.0</td>\n",
       "      <td>891.0</td>\n",
       "    </tr>\n",
       "    <tr>\n",
       "      <th>4</th>\n",
       "      <td>1.0</td>\n",
       "      <td>164.000000</td>\n",
       "      <td>NaN</td>\n",
       "      <td>164.0</td>\n",
       "      <td>164.0</td>\n",
       "      <td>164.0</td>\n",
       "      <td>164.0</td>\n",
       "      <td>164.0</td>\n",
       "    </tr>\n",
       "  </tbody>\n",
       "</table>\n",
       "</div>\n",
       "      <button class=\"colab-df-convert\" onclick=\"convertToInteractive('df-f73c5230-eca8-4192-b5ef-12fc2de58081')\"\n",
       "              title=\"Convert this dataframe to an interactive table.\"\n",
       "              style=\"display:none;\">\n",
       "        \n",
       "  <svg xmlns=\"http://www.w3.org/2000/svg\" height=\"24px\"viewBox=\"0 0 24 24\"\n",
       "       width=\"24px\">\n",
       "    <path d=\"M0 0h24v24H0V0z\" fill=\"none\"/>\n",
       "    <path d=\"M18.56 5.44l.94 2.06.94-2.06 2.06-.94-2.06-.94-.94-2.06-.94 2.06-2.06.94zm-11 1L8.5 8.5l.94-2.06 2.06-.94-2.06-.94L8.5 2.5l-.94 2.06-2.06.94zm10 10l.94 2.06.94-2.06 2.06-.94-2.06-.94-.94-2.06-.94 2.06-2.06.94z\"/><path d=\"M17.41 7.96l-1.37-1.37c-.4-.4-.92-.59-1.43-.59-.52 0-1.04.2-1.43.59L10.3 9.45l-7.72 7.72c-.78.78-.78 2.05 0 2.83L4 21.41c.39.39.9.59 1.41.59.51 0 1.02-.2 1.41-.59l7.78-7.78 2.81-2.81c.8-.78.8-2.07 0-2.86zM5.41 20L4 18.59l7.72-7.72 1.47 1.35L5.41 20z\"/>\n",
       "  </svg>\n",
       "      </button>\n",
       "      \n",
       "  <style>\n",
       "    .colab-df-container {\n",
       "      display:flex;\n",
       "      flex-wrap:wrap;\n",
       "      gap: 12px;\n",
       "    }\n",
       "\n",
       "    .colab-df-convert {\n",
       "      background-color: #E8F0FE;\n",
       "      border: none;\n",
       "      border-radius: 50%;\n",
       "      cursor: pointer;\n",
       "      display: none;\n",
       "      fill: #1967D2;\n",
       "      height: 32px;\n",
       "      padding: 0 0 0 0;\n",
       "      width: 32px;\n",
       "    }\n",
       "\n",
       "    .colab-df-convert:hover {\n",
       "      background-color: #E2EBFA;\n",
       "      box-shadow: 0px 1px 2px rgba(60, 64, 67, 0.3), 0px 1px 3px 1px rgba(60, 64, 67, 0.15);\n",
       "      fill: #174EA6;\n",
       "    }\n",
       "\n",
       "    [theme=dark] .colab-df-convert {\n",
       "      background-color: #3B4455;\n",
       "      fill: #D2E3FC;\n",
       "    }\n",
       "\n",
       "    [theme=dark] .colab-df-convert:hover {\n",
       "      background-color: #434B5C;\n",
       "      box-shadow: 0px 1px 3px 1px rgba(0, 0, 0, 0.15);\n",
       "      filter: drop-shadow(0px 1px 2px rgba(0, 0, 0, 0.3));\n",
       "      fill: #FFFFFF;\n",
       "    }\n",
       "  </style>\n",
       "\n",
       "      <script>\n",
       "        const buttonEl =\n",
       "          document.querySelector('#df-f73c5230-eca8-4192-b5ef-12fc2de58081 button.colab-df-convert');\n",
       "        buttonEl.style.display =\n",
       "          google.colab.kernel.accessAllowed ? 'block' : 'none';\n",
       "\n",
       "        async function convertToInteractive(key) {\n",
       "          const element = document.querySelector('#df-f73c5230-eca8-4192-b5ef-12fc2de58081');\n",
       "          const dataTable =\n",
       "            await google.colab.kernel.invokeFunction('convertToInteractive',\n",
       "                                                     [key], {});\n",
       "          if (!dataTable) return;\n",
       "\n",
       "          const docLinkHtml = 'Like what you see? Visit the ' +\n",
       "            '<a target=\"_blank\" href=https://colab.research.google.com/notebooks/data_table.ipynb>data table notebook</a>'\n",
       "            + ' to learn more about interactive tables.';\n",
       "          element.innerHTML = '';\n",
       "          dataTable['output_type'] = 'display_data';\n",
       "          await google.colab.output.renderOutput(dataTable, element);\n",
       "          const docLink = document.createElement('div');\n",
       "          docLink.innerHTML = docLinkHtml;\n",
       "          element.appendChild(docLink);\n",
       "        }\n",
       "      </script>\n",
       "    </div>\n",
       "  </div>\n",
       "  "
      ],
      "text/plain": [
       "          count        mean         std    min    25%    50%    75%    max\n",
       "weather                                                                   \n",
       "1        7192.0  205.236791  187.959566    1.0   48.0  161.0  305.0  977.0\n",
       "2        2834.0  178.955540  168.366413    1.0   41.0  134.0  264.0  890.0\n",
       "3         859.0  118.846333  138.581297    1.0   23.0   71.0  161.0  891.0\n",
       "4           1.0  164.000000         NaN  164.0  164.0  164.0  164.0  164.0"
      ]
     },
     "execution_count": 20,
     "metadata": {},
     "output_type": "execute_result"
    }
   ],
   "source": [
    "# 4. Weather -\n",
    "pd.DataFrame(dfn.groupby('weather')['count'].describe())"
   ]
  },
  {
   "cell_type": "markdown",
   "id": "cFoUBGA0b7GA",
   "metadata": {
    "id": "cFoUBGA0b7GA"
   },
   "source": [
    "---\n",
    "### Ques. 1 - Is there any significant difference between the no. of bike rides on weekdays and weekends?\n",
    "---"
   ]
  },
  {
   "cell_type": "markdown",
   "id": "ec8a180e",
   "metadata": {
    "id": "ec8a180e"
   },
   "source": [
    "#### **Step 1:** Define the null and alternate hypothesis"
   ]
  },
  {
   "cell_type": "markdown",
   "id": "6ec8d21e",
   "metadata": {
    "id": "6ec8d21e"
   },
   "source": [
    "$H_0:$ The demand of bikes on weekdays is greater or similar to the demand of bikes on weekend.\n",
    "\n",
    "$H_a:$ The demand of bikes on weekdays is less than the demand of bikes on weekend.\n",
    "\n",
    "Let $\\mu_1$ and $\\mu_2$ be the average no. of bikes rented on weekdays and weekends respectively.\n",
    "\n",
    "Mathematically, the above formulated hypothesis can be written as:\n",
    "\n",
    "$H_0: \\mu_1 >= \\mu_2$\n",
    "\n",
    "$H_a: \\mu_1 < \\mu_2$"
   ]
  },
  {
   "cell_type": "markdown",
   "id": "mZmivAhd2Lnf",
   "metadata": {
    "id": "mZmivAhd2Lnf"
   },
   "source": [
    "**Ques.** What is the difference between a t-test and a z-test?\n",
    "\n",
    "**Ans.**\n",
    "\n",
    "* A t-test looks at two sets of data that are different from each other, with no standard deviation or variance.\n",
    "\n",
    "* A z-test views the averages of data sets that are different from each other but have the standard deviation or variance given.\n",
    "\n",
    "* The t test as compared with z test has its advantage for small sample comparison. As n increases, t approaches to z. The advantage of t test disappears, and t distribution simply becomes z distribution. \n",
    "\n",
    "* In other words, with large n, t test is just close to z test and one doen't lose anything to continue to use t test. \n",
    "\n",
    "* In the past, for convenience, we use z table when n > 30.  We don't have to do it anymore. \n",
    "\n",
    "* In fact, all statistical packages use t test even n is large. This is easy, convenience with computer programming, and is correct. All statistical packages are good references."
   ]
  },
  {
   "cell_type": "markdown",
   "id": "87c763c6",
   "metadata": {
    "id": "87c763c6"
   },
   "source": [
    "#### **Step 2:** Select an appropriate test"
   ]
  },
  {
   "cell_type": "markdown",
   "id": "iEQ3Hu2I6ISA",
   "metadata": {
    "id": "iEQ3Hu2I6ISA"
   },
   "source": [
    "Note that the standard deviation of the population is not known."
   ]
  },
  {
   "cell_type": "code",
   "execution_count": null,
   "id": "HmiUrzwlqOMq",
   "metadata": {
    "id": "HmiUrzwlqOMq"
   },
   "outputs": [],
   "source": [
    "weekday = dfn[dfn['workingday'] == 1]['count'].sample(2999)\n",
    "weekend = dfn[dfn['workingday'] == 0]['count'].sample(2999)"
   ]
  },
  {
   "cell_type": "markdown",
   "id": "mMIOmYYk2QPq",
   "metadata": {
    "id": "mMIOmYYk2QPq"
   },
   "source": [
    "**Ques.** Why do we take same no. of samples from two different populations for conducting the tests?\n",
    "\n",
    "**Ans.** \n",
    "* Unequal sample sizes can lead to unequal variances between samples, which affects the assumption of equal variances in tests like t-test, ANOVA, etc. \n",
    "\n",
    "* Having both unequal sample sizes and variances dramatically affects the statistical power of a test.\n"
   ]
  },
  {
   "cell_type": "code",
   "execution_count": null,
   "id": "PJ5u9yhqqPdC",
   "metadata": {
    "colab": {
     "base_uri": "https://localhost:8080/"
    },
    "id": "PJ5u9yhqqPdC",
    "outputId": "d96f6085-8fc6-4d21-ba7a-19fc440ff924"
   },
   "outputs": [
    {
     "name": "stdout",
     "output_type": "stream",
     "text": [
      "The sample standard deviation of the bike rides on weekday is: 179.99\n",
      "The sample standard deviation of the bike rides on weekend is: 172.32\n"
     ]
    }
   ],
   "source": [
    "print('The sample standard deviation of the bike rides on weekday is:', round(weekday.std(), 2))\n",
    "print('The sample standard deviation of the bike rides on weekend is:', round(weekend.std(), 2))"
   ]
  },
  {
   "cell_type": "markdown",
   "id": "aK4T7blnqWZO",
   "metadata": {
    "id": "aK4T7blnqWZO"
   },
   "source": [
    "As the sample standard deviations are different, the population standard deviations can be assumed to be different."
   ]
  },
  {
   "cell_type": "markdown",
   "id": "W9xL-K0SqMl-",
   "metadata": {
    "id": "W9xL-K0SqMl-"
   },
   "source": [
    "This is a one-tailed test concerning two population means from two independent populations. As the population standard deviations are unknown, the two sample independent t-test will be the appropriate test for this problem."
   ]
  },
  {
   "cell_type": "markdown",
   "id": "aJF22wqXfIXH",
   "metadata": {
    "id": "aJF22wqXfIXH"
   },
   "source": [
    "#### **Step 3:** Decide the significance level\n",
    "\n",
    "As given in the problem statement, we select α = 0.05."
   ]
  },
  {
   "cell_type": "code",
   "execution_count": null,
   "id": "TQ-dOfezfJCz",
   "metadata": {
    "id": "TQ-dOfezfJCz"
   },
   "outputs": [],
   "source": [
    "alpha = 0.05"
   ]
  },
  {
   "cell_type": "markdown",
   "id": "4c0c7304",
   "metadata": {
    "id": "4c0c7304"
   },
   "source": [
    "#### **Step 4:** Calculate the p-value"
   ]
  },
  {
   "cell_type": "code",
   "execution_count": null,
   "id": "pePsO9p7cVBY",
   "metadata": {
    "id": "pePsO9p7cVBY"
   },
   "outputs": [],
   "source": [
    "def result(p_value, alpha):\n",
    "  if p_value < alpha:\n",
    "    print(f'As the p-value {p_value} is less than the level of significance, we reject the null hypothesis.')\n",
    "  else:\n",
    "    print(f'As the p-value {p_value} is greater than the level of significance, we fail to reject the null hypothesis.')"
   ]
  },
  {
   "cell_type": "code",
   "execution_count": null,
   "id": "10379138",
   "metadata": {
    "colab": {
     "base_uri": "https://localhost:8080/"
    },
    "id": "10379138",
    "outputId": "eba00e4f-5653-45af-f717-fef3547f5271"
   },
   "outputs": [
    {
     "name": "stdout",
     "output_type": "stream",
     "text": [
      "The p-value is :  0.8607788740424779\n",
      "As the p-value 0.8607788740424779 is greater than the level of significance, we fail to reject the null hypothesis.\n"
     ]
    }
   ],
   "source": [
    "test_stat, p_value = ttest_ind(weekday, weekend, equal_var=False, alternative='less')\n",
    "print('The p-value is : ', p_value)\n",
    "\n",
    "result(p_value, alpha)"
   ]
  },
  {
   "cell_type": "markdown",
   "id": "a6DkwuNoeRR_",
   "metadata": {
    "id": "a6DkwuNoeRR_"
   },
   "source": [
    "**Observation:** Since the p-value is greater than the 5% significance level, we fail to reject the null hypothesis. Hence, we have enough statistical evidence to say that the average no. of bike rides during weekdays is greater than or equal to those on weekends."
   ]
  },
  {
   "cell_type": "markdown",
   "id": "6U7Lb36rTJ99",
   "metadata": {
    "id": "6U7Lb36rTJ99"
   },
   "source": [
    "---\n",
    "### Ques. 2 - Is there any significant difference between the no. of bike rides on regular days and holidays?\n",
    "---"
   ]
  },
  {
   "cell_type": "markdown",
   "id": "t2iJwXeUTka6",
   "metadata": {
    "id": "t2iJwXeUTka6"
   },
   "source": [
    "#### **Step 1:** Define the null and alternate hypothesis"
   ]
  },
  {
   "cell_type": "markdown",
   "id": "z73zbtB9Tlem",
   "metadata": {
    "id": "z73zbtB9Tlem"
   },
   "source": [
    "$H_0:$ The demand of bikes on regular days is greater or similar to the demand of bikes on holidays.\n",
    "\n",
    "$H_a:$ The demand of bikes on regular days is less than the demand of bikes on holidays.\n",
    "\n",
    "Let $\\mu_1$ and $\\mu_2$ be the average no. of bikes rented on regular days and holidays respectively.\n",
    "\n",
    "Mathematically, the above formulated hypothesis can be written as:\n",
    "\n",
    "$H_0: \\mu_1 >= \\mu_2$\n",
    "\n",
    "$H_a: \\mu_1 < \\mu_2$"
   ]
  },
  {
   "cell_type": "markdown",
   "id": "0MWvhnB7UnjR",
   "metadata": {
    "id": "0MWvhnB7UnjR"
   },
   "source": [
    "#### **Step 2:** Select an appropriate test"
   ]
  },
  {
   "cell_type": "markdown",
   "id": "NUGqJyN5VZvc",
   "metadata": {
    "id": "NUGqJyN5VZvc"
   },
   "source": [
    "Again the standard deviation of the population is not known."
   ]
  },
  {
   "cell_type": "code",
   "execution_count": null,
   "id": "G9seigrXUqvM",
   "metadata": {
    "id": "G9seigrXUqvM"
   },
   "outputs": [],
   "source": [
    "holiday = dfn[dfn['holiday'] == 1]['count'].sample(299)\n",
    "regular = dfn[dfn['holiday'] == 0]['count'].sample(299)"
   ]
  },
  {
   "cell_type": "code",
   "execution_count": null,
   "id": "Biv0fzvmUqyJ",
   "metadata": {
    "colab": {
     "base_uri": "https://localhost:8080/"
    },
    "id": "Biv0fzvmUqyJ",
    "outputId": "979c1cd8-14ac-4f46-c6e0-eca80fd728fa"
   },
   "outputs": [
    {
     "name": "stdout",
     "output_type": "stream",
     "text": [
      "The sample standard deviation of the bike rides on holidays is: 168.38\n",
      "The sample standard deviation of the bike rides on regular days is: 194.57\n"
     ]
    }
   ],
   "source": [
    "print('The sample standard deviation of the bike rides on holidays is:', round(holiday.std(), 2))\n",
    "print('The sample standard deviation of the bike rides on regular days is:', round(regular.std(), 2))"
   ]
  },
  {
   "cell_type": "markdown",
   "id": "F0b02jYOcPsO",
   "metadata": {
    "id": "F0b02jYOcPsO"
   },
   "source": [
    "As the sample standard deviations are different, the population standard deviations can be assumed to be different."
   ]
  },
  {
   "cell_type": "markdown",
   "id": "Vd6CYctsVhKM",
   "metadata": {
    "id": "Vd6CYctsVhKM"
   },
   "source": [
    "This is also a one-tailed test concerning two population means from two independent populations. As the population standard deviations are unknown, the two sample independent t-test will be the appropriate test for this problem."
   ]
  },
  {
   "cell_type": "markdown",
   "id": "paIq-F6PUv3B",
   "metadata": {
    "id": "paIq-F6PUv3B"
   },
   "source": [
    "#### **Step 3:** Decide the significance level\n",
    "\n",
    "The significance level (α) is already set to 5% i.e., 0.05"
   ]
  },
  {
   "cell_type": "markdown",
   "id": "iJoofYptU0IY",
   "metadata": {
    "id": "iJoofYptU0IY"
   },
   "source": [
    "#### **Step 4:** Calculate the p-value"
   ]
  },
  {
   "cell_type": "code",
   "execution_count": null,
   "id": "ZQtqer2dVHz1",
   "metadata": {
    "colab": {
     "base_uri": "https://localhost:8080/"
    },
    "id": "ZQtqer2dVHz1",
    "outputId": "b7039495-e007-40db-9fb8-3187aa4175a5"
   },
   "outputs": [
    {
     "name": "stdout",
     "output_type": "stream",
     "text": [
      "The p-value is :  0.8337856489598097\n",
      "As the p-value 0.8337856489598097 is greater than the level of significance, we fail to reject the null hypothesis.\n"
     ]
    }
   ],
   "source": [
    "test_stat, p_value = ttest_ind(regular, holiday, equal_var=False, alternative='less')\n",
    "print('The p-value is : ', p_value)\n",
    "\n",
    "result(p_value, alpha)"
   ]
  },
  {
   "cell_type": "markdown",
   "id": "RWkrLRZGVGNV",
   "metadata": {
    "id": "RWkrLRZGVGNV"
   },
   "source": [
    "**Observation:** Since the p-value is greater than the 5% significance level, we fail to reject the null hypothesis. Hence, we have enough statistical evidence to say that the average no. of bike rides during regular days is greater than or equal to those on holidays."
   ]
  },
  {
   "cell_type": "markdown",
   "id": "afc32419",
   "metadata": {
    "id": "afc32419"
   },
   "source": [
    "---\n",
    "### Ques. 3 - Is the demand of bicycles on rent same for different weather conditions?\n",
    "---"
   ]
  },
  {
   "cell_type": "markdown",
   "id": "wq3h-j2OoSNv",
   "metadata": {
    "id": "wq3h-j2OoSNv"
   },
   "source": [
    "#### **Step 1:** Define the null and alternate hypothesis\n",
    "\n",
    "$H_0:$ The average no. of bike rides in different weather conditions  are equal.\n",
    "\n",
    "$H_a:$ The average no. of bike rides in different weather conditions are not equal.\n",
    "\n",
    "Let $\\mu_1$ and $\\mu_2$ be the average no. of bikes rented on weekdays and weekends respectively."
   ]
  },
  {
   "cell_type": "markdown",
   "id": "et3oo04WiFxf",
   "metadata": {
    "id": "et3oo04WiFxf"
   },
   "source": [
    "#### **Step 2:** Select an appropriate test\n"
   ]
  },
  {
   "cell_type": "code",
   "execution_count": null,
   "id": "t5UVEa09qmkL",
   "metadata": {
    "id": "t5UVEa09qmkL"
   },
   "outputs": [],
   "source": [
    "dfn = dfn[~(dfn['weather']==4)]"
   ]
  },
  {
   "cell_type": "code",
   "execution_count": null,
   "id": "bYgfcceQqmnJ",
   "metadata": {
    "id": "bYgfcceQqmnJ"
   },
   "outputs": [],
   "source": [
    "w1 = dfn[dfn['weather'] == 1]['count'].sample(750)\n",
    "w2 = dfn[dfn['weather'] == 2]['count'].sample(750)\n",
    "w3 = dfn[dfn['weather'] == 3]['count'].sample(750)"
   ]
  },
  {
   "cell_type": "code",
   "execution_count": null,
   "id": "Mwtl1NnGqmqb",
   "metadata": {
    "colab": {
     "base_uri": "https://localhost:8080/",
     "height": 173
    },
    "id": "Mwtl1NnGqmqb",
    "outputId": "f518db14-fdc9-4fcf-8310-b604b2242887"
   },
   "outputs": [
    {
     "data": {
      "text/html": [
       "\n",
       "  <div id=\"df-54fad6a8-b3fd-4dc5-98ad-e2bed546aff6\">\n",
       "    <div class=\"colab-df-container\">\n",
       "      <div>\n",
       "<style scoped>\n",
       "    .dataframe tbody tr th:only-of-type {\n",
       "        vertical-align: middle;\n",
       "    }\n",
       "\n",
       "    .dataframe tbody tr th {\n",
       "        vertical-align: top;\n",
       "    }\n",
       "\n",
       "    .dataframe thead th {\n",
       "        text-align: right;\n",
       "    }\n",
       "</style>\n",
       "<table border=\"1\" class=\"dataframe\">\n",
       "  <thead>\n",
       "    <tr style=\"text-align: right;\">\n",
       "      <th></th>\n",
       "      <th>count</th>\n",
       "      <th>mean</th>\n",
       "      <th>std</th>\n",
       "      <th>min</th>\n",
       "      <th>25%</th>\n",
       "      <th>50%</th>\n",
       "      <th>75%</th>\n",
       "      <th>max</th>\n",
       "    </tr>\n",
       "    <tr>\n",
       "      <th>weather</th>\n",
       "      <th></th>\n",
       "      <th></th>\n",
       "      <th></th>\n",
       "      <th></th>\n",
       "      <th></th>\n",
       "      <th></th>\n",
       "      <th></th>\n",
       "      <th></th>\n",
       "    </tr>\n",
       "  </thead>\n",
       "  <tbody>\n",
       "    <tr>\n",
       "      <th>1</th>\n",
       "      <td>7192.0</td>\n",
       "      <td>205.236791</td>\n",
       "      <td>187.959566</td>\n",
       "      <td>1.0</td>\n",
       "      <td>48.0</td>\n",
       "      <td>161.0</td>\n",
       "      <td>305.0</td>\n",
       "      <td>977.0</td>\n",
       "    </tr>\n",
       "    <tr>\n",
       "      <th>2</th>\n",
       "      <td>2834.0</td>\n",
       "      <td>178.955540</td>\n",
       "      <td>168.366413</td>\n",
       "      <td>1.0</td>\n",
       "      <td>41.0</td>\n",
       "      <td>134.0</td>\n",
       "      <td>264.0</td>\n",
       "      <td>890.0</td>\n",
       "    </tr>\n",
       "    <tr>\n",
       "      <th>3</th>\n",
       "      <td>859.0</td>\n",
       "      <td>118.846333</td>\n",
       "      <td>138.581297</td>\n",
       "      <td>1.0</td>\n",
       "      <td>23.0</td>\n",
       "      <td>71.0</td>\n",
       "      <td>161.0</td>\n",
       "      <td>891.0</td>\n",
       "    </tr>\n",
       "  </tbody>\n",
       "</table>\n",
       "</div>\n",
       "      <button class=\"colab-df-convert\" onclick=\"convertToInteractive('df-54fad6a8-b3fd-4dc5-98ad-e2bed546aff6')\"\n",
       "              title=\"Convert this dataframe to an interactive table.\"\n",
       "              style=\"display:none;\">\n",
       "        \n",
       "  <svg xmlns=\"http://www.w3.org/2000/svg\" height=\"24px\"viewBox=\"0 0 24 24\"\n",
       "       width=\"24px\">\n",
       "    <path d=\"M0 0h24v24H0V0z\" fill=\"none\"/>\n",
       "    <path d=\"M18.56 5.44l.94 2.06.94-2.06 2.06-.94-2.06-.94-.94-2.06-.94 2.06-2.06.94zm-11 1L8.5 8.5l.94-2.06 2.06-.94-2.06-.94L8.5 2.5l-.94 2.06-2.06.94zm10 10l.94 2.06.94-2.06 2.06-.94-2.06-.94-.94-2.06-.94 2.06-2.06.94z\"/><path d=\"M17.41 7.96l-1.37-1.37c-.4-.4-.92-.59-1.43-.59-.52 0-1.04.2-1.43.59L10.3 9.45l-7.72 7.72c-.78.78-.78 2.05 0 2.83L4 21.41c.39.39.9.59 1.41.59.51 0 1.02-.2 1.41-.59l7.78-7.78 2.81-2.81c.8-.78.8-2.07 0-2.86zM5.41 20L4 18.59l7.72-7.72 1.47 1.35L5.41 20z\"/>\n",
       "  </svg>\n",
       "      </button>\n",
       "      \n",
       "  <style>\n",
       "    .colab-df-container {\n",
       "      display:flex;\n",
       "      flex-wrap:wrap;\n",
       "      gap: 12px;\n",
       "    }\n",
       "\n",
       "    .colab-df-convert {\n",
       "      background-color: #E8F0FE;\n",
       "      border: none;\n",
       "      border-radius: 50%;\n",
       "      cursor: pointer;\n",
       "      display: none;\n",
       "      fill: #1967D2;\n",
       "      height: 32px;\n",
       "      padding: 0 0 0 0;\n",
       "      width: 32px;\n",
       "    }\n",
       "\n",
       "    .colab-df-convert:hover {\n",
       "      background-color: #E2EBFA;\n",
       "      box-shadow: 0px 1px 2px rgba(60, 64, 67, 0.3), 0px 1px 3px 1px rgba(60, 64, 67, 0.15);\n",
       "      fill: #174EA6;\n",
       "    }\n",
       "\n",
       "    [theme=dark] .colab-df-convert {\n",
       "      background-color: #3B4455;\n",
       "      fill: #D2E3FC;\n",
       "    }\n",
       "\n",
       "    [theme=dark] .colab-df-convert:hover {\n",
       "      background-color: #434B5C;\n",
       "      box-shadow: 0px 1px 3px 1px rgba(0, 0, 0, 0.15);\n",
       "      filter: drop-shadow(0px 1px 2px rgba(0, 0, 0, 0.3));\n",
       "      fill: #FFFFFF;\n",
       "    }\n",
       "  </style>\n",
       "\n",
       "      <script>\n",
       "        const buttonEl =\n",
       "          document.querySelector('#df-54fad6a8-b3fd-4dc5-98ad-e2bed546aff6 button.colab-df-convert');\n",
       "        buttonEl.style.display =\n",
       "          google.colab.kernel.accessAllowed ? 'block' : 'none';\n",
       "\n",
       "        async function convertToInteractive(key) {\n",
       "          const element = document.querySelector('#df-54fad6a8-b3fd-4dc5-98ad-e2bed546aff6');\n",
       "          const dataTable =\n",
       "            await google.colab.kernel.invokeFunction('convertToInteractive',\n",
       "                                                     [key], {});\n",
       "          if (!dataTable) return;\n",
       "\n",
       "          const docLinkHtml = 'Like what you see? Visit the ' +\n",
       "            '<a target=\"_blank\" href=https://colab.research.google.com/notebooks/data_table.ipynb>data table notebook</a>'\n",
       "            + ' to learn more about interactive tables.';\n",
       "          element.innerHTML = '';\n",
       "          dataTable['output_type'] = 'display_data';\n",
       "          await google.colab.output.renderOutput(dataTable, element);\n",
       "          const docLink = document.createElement('div');\n",
       "          docLink.innerHTML = docLinkHtml;\n",
       "          element.appendChild(docLink);\n",
       "        }\n",
       "      </script>\n",
       "    </div>\n",
       "  </div>\n",
       "  "
      ],
      "text/plain": [
       "          count        mean         std  min   25%    50%    75%    max\n",
       "weather                                                                \n",
       "1        7192.0  205.236791  187.959566  1.0  48.0  161.0  305.0  977.0\n",
       "2        2834.0  178.955540  168.366413  1.0  41.0  134.0  264.0  890.0\n",
       "3         859.0  118.846333  138.581297  1.0  23.0   71.0  161.0  891.0"
      ]
     },
     "execution_count": 30,
     "metadata": {},
     "output_type": "execute_result"
    }
   ],
   "source": [
    "dfn.groupby(['weather'])['count'].describe()"
   ]
  },
  {
   "cell_type": "markdown",
   "id": "0ZpM-zPrqkn_",
   "metadata": {
    "id": "0ZpM-zPrqkn_"
   },
   "source": [
    "This is a problem, concerning three independent population means. **One-way ANOVA** could be the appropriate test here provided normality and equality of variance assumptions are verified.\n",
    "\n",
    "The ANOVA test has important assumptions that must be satisfied in order for the associated p-value to be valid.\n",
    "\n",
    "* The samples are independent.\n",
    "* Each sample is from a normally distributed population.\n",
    "* The population variance of the groups are all equal. "
   ]
  },
  {
   "cell_type": "markdown",
   "id": "-TKFNtPiVXj9",
   "metadata": {
    "id": "-TKFNtPiVXj9"
   },
   "source": [
    "Now, we will be using the following statistical tests to check the normality and euality of variance of the data set -\n",
    "\n",
    "* For testing of normality, Shapiro-Wilk’s test is applied to the response variable.\n",
    "\n",
    "* For equality of variance, Levene test is applied to the response variable."
   ]
  },
  {
   "cell_type": "markdown",
   "id": "PaLgpKEliJIx",
   "metadata": {
    "id": "PaLgpKEliJIx"
   },
   "source": [
    "#### Shapiro-Wilk’s test -\n",
    "\n",
    "We will test the null hypothesis\n",
    "\n",
    ">$H_0:$ Count follows normal distribution\n",
    "\n",
    "against the alternative hypothesis\n",
    "\n",
    ">$H_a:$ Count doesn't follow normal distribution\n",
    "\n"
   ]
  },
  {
   "cell_type": "code",
   "execution_count": null,
   "id": "06baf969",
   "metadata": {
    "colab": {
     "base_uri": "https://localhost:8080/"
    },
    "id": "06baf969",
    "outputId": "70a12bd0-7182-46ec-e3cb-ab512356c9eb"
   },
   "outputs": [
    {
     "name": "stdout",
     "output_type": "stream",
     "text": [
      "The p-value is :  0.0\n",
      "As the p-value 0.0 is less than the level of significance, we reject the null hypothesis.\n"
     ]
    }
   ],
   "source": [
    "# Assumption 1: Normality\n",
    "\n",
    "w, p_value = shapiro(dfn['count'].sample(4999)) \n",
    "print('The p-value is : ', p_value)\n",
    "\n",
    "result(p_value, alpha)"
   ]
  },
  {
   "cell_type": "markdown",
   "id": "138cf2ed",
   "metadata": {
    "id": "138cf2ed"
   },
   "source": [
    "#### Levene’s test -\n",
    "\n",
    "We will test the null hypothesis\n",
    "\n",
    ">$H_0$: All the count variances are equal\n",
    "\n",
    "against the alternative hypothesis\n",
    "\n",
    ">$H_a$: At least one variance is different from the rest"
   ]
  },
  {
   "cell_type": "code",
   "execution_count": null,
   "id": "2549eea2",
   "metadata": {
    "colab": {
     "base_uri": "https://localhost:8080/"
    },
    "id": "2549eea2",
    "outputId": "dbf08637-77ff-42e0-e2fd-c82f90396366"
   },
   "outputs": [
    {
     "name": "stdout",
     "output_type": "stream",
     "text": [
      "The p-value is :  2.608209978424387e-15\n",
      "As the p-value 2.608209978424387e-15 is less than the level of significance, we reject the null hypothesis.\n"
     ]
    }
   ],
   "source": [
    "#Assumption 2: Homogeneity of Variance\n",
    "\n",
    "stat, p_value = levene(w1, w2, w3)\n",
    "print('The p-value is : ', p_value)\n",
    "\n",
    "result(p_value, alpha)"
   ]
  },
  {
   "cell_type": "markdown",
   "id": "4QSG7yPNh0cL",
   "metadata": {
    "id": "4QSG7yPNh0cL"
   },
   "source": [
    "**Note:** If these assumptions are not true for a given set of data (like in this case), it may still be possible to use the **Kruskal-Wallis H-test** or the **Alexander-Govern test** although with some loss of power."
   ]
  },
  {
   "cell_type": "markdown",
   "id": "f9vCWvfh2YrU",
   "metadata": {
    "id": "f9vCWvfh2YrU"
   },
   "source": [
    "### Central Limit Theorem -\n",
    "\n",
    "You all must have studies about the CLT in previous classes.\n",
    "\n",
    "* According to this theorem, the distribution of sample means approximates a normal distribution as the sample size gets larger, regardless of the population's distribution. \n",
    "\n",
    "* In other words, if we find the mean of a large number of independent random variables, the mean\n",
    "will follow a normal distribution, irrespective of the distribution of the original variables.\n",
    "\n",
    "* In practice, sample sizes equal to or greater than 30-40 are often considered sufficient for the CLT to hold.\n",
    "\n",
    "Hence, the sample size being large enough, we don't need to worry about the non-normality of distribution of the data set in hand before applying the tests.\n",
    "\n",
    "Eventually, as the sample size gets larger, the distribution of sample means will fall into a normal or near normal shape.\n"
   ]
  },
  {
   "cell_type": "markdown",
   "id": "tPsIGkSEVu0B",
   "metadata": {
    "id": "tPsIGkSEVu0B"
   },
   "source": [
    "**Ques.** What are some of the basic methods (other than statistical tests) to test the normality & homogeneity of variance?"
   ]
  },
  {
   "cell_type": "markdown",
   "id": "ZYxTuogKZ7Gd",
   "metadata": {
    "id": "ZYxTuogKZ7Gd"
   },
   "source": [
    "A. To check for **Normality -**"
   ]
  },
  {
   "cell_type": "code",
   "execution_count": null,
   "id": "cFjC-0R_WBBs",
   "metadata": {
    "colab": {
     "base_uri": "https://localhost:8080/",
     "height": 356
    },
    "id": "cFjC-0R_WBBs",
    "outputId": "6ab737c0-e7c2-40d1-a8ac-6227e0e57f37"
   },
   "outputs": [
    {
     "name": "stderr",
     "output_type": "stream",
     "text": [
      "/usr/local/lib/python3.7/dist-packages/seaborn/distributions.py:2619: FutureWarning: `distplot` is a deprecated function and will be removed in a future version. Please adapt your code to use either `displot` (a figure-level function with similar flexibility) or `histplot` (an axes-level function for histograms).\n",
      "  warnings.warn(msg, FutureWarning)\n"
     ]
    },
    {
     "data": {
      "text/plain": [
       "<matplotlib.axes._subplots.AxesSubplot at 0x7fcb87388090>"
      ]
     },
     "execution_count": 33,
     "metadata": {},
     "output_type": "execute_result"
    },
    {
     "data": {
      "image/png": "[encoded data removed]",
      "text/plain": [
       "<Figure size 432x288 with 1 Axes>"
      ]
     },
     "metadata": {},
     "output_type": "display_data"
    }
   ],
   "source": [
    "# Method 1: Using a Histogram\n",
    "# You should see a 'Bell' shaped curve.\n",
    "sbn.distplot(dfn['count'].sample(4999))"
   ]
  },
  {
   "cell_type": "code",
   "execution_count": null,
   "id": "6hnqzkfmXpE8",
   "metadata": {
    "colab": {
     "base_uri": "https://localhost:8080/",
     "height": 301
    },
    "id": "6hnqzkfmXpE8",
    "outputId": "360ae21d-a554-4cde-99ee-b0ee75342a65"
   },
   "outputs": [
    {
     "data": {
      "image/png": "[encoded data removed]",
      "text/plain": [
       "<Figure size 432x288 with 1 Axes>"
      ]
     },
     "metadata": {},
     "output_type": "display_data"
    }
   ],
   "source": [
    "# Method 2: Using a Q-Q plot\n",
    "# The linearity of points suggests that the data is normally distributed.\n",
    "stats.probplot(dfn['count'], dist='norm', fit=True, plot=plt)\n",
    "plt.title('Q-Q Plot')\n",
    "plt.show()"
   ]
  },
  {
   "cell_type": "code",
   "execution_count": null,
   "id": "_4BOl6Or6EFf",
   "metadata": {
    "colab": {
     "base_uri": "https://localhost:8080/"
    },
    "id": "_4BOl6Or6EFf",
    "outputId": "d0ee465e-10b7-4c3f-a689-06526b185bda"
   },
   "outputs": [
    {
     "name": "stdout",
     "output_type": "stream",
     "text": [
      "Skewness :  1.2420662117180776\n",
      "Kurtosis :  1.3000929518398334\n"
     ]
    }
   ],
   "source": [
    "# Method 3: Check skewness & kurtosis\n",
    "# Skewness should be close to 0 and Kurtosis close to 3.\n",
    "\n",
    "print(\"Skewness : \", df['count'].skew())\n",
    "print(\"Kurtosis : \", df['count'].kurt())"
   ]
  },
  {
   "cell_type": "markdown",
   "id": "IGn2uWV6Z_hN",
   "metadata": {
    "id": "IGn2uWV6Z_hN"
   },
   "source": [
    "B. To check for **Homogeneity of Variance -**"
   ]
  },
  {
   "cell_type": "code",
   "execution_count": null,
   "id": "fMmCcJQe2F27",
   "metadata": {
    "colab": {
     "base_uri": "https://localhost:8080/"
    },
    "id": "fMmCcJQe2F27",
    "outputId": "04604231-1960-44c8-9a8a-bfae20362b5f"
   },
   "outputs": [
    {
     "name": "stdout",
     "output_type": "stream",
     "text": [
      "32390.591410769917 26884.43579706275 18806.42812639074\n"
     ]
    }
   ],
   "source": [
    "# Method 1:\n",
    "print(w1.var(), w2.var(), w3.var())"
   ]
  },
  {
   "cell_type": "markdown",
   "id": "iv4RTCPPdrFM",
   "metadata": {
    "id": "iv4RTCPPdrFM"
   },
   "source": [
    "#### **Step 3:** Decide the significance level\n",
    "\n",
    "The significance level (α) is already set to 5% i.e., 0.05"
   ]
  },
  {
   "cell_type": "markdown",
   "id": "e2UpK8Njd-wW",
   "metadata": {
    "id": "e2UpK8Njd-wW"
   },
   "source": [
    "#### **Step 4:** Calculate the p-value"
   ]
  },
  {
   "cell_type": "markdown",
   "id": "e75a3971",
   "metadata": {
    "id": "e75a3971"
   },
   "source": [
    "One-way ANOVA -\n"
   ]
  },
  {
   "cell_type": "code",
   "execution_count": null,
   "id": "7d4ee3b1",
   "metadata": {
    "colab": {
     "base_uri": "https://localhost:8080/"
    },
    "id": "7d4ee3b1",
    "outputId": "935bcb8b-864c-4fdf-84d2-d53d9110f5e6"
   },
   "outputs": [
    {
     "name": "stdout",
     "output_type": "stream",
     "text": [
      "The p-value is :  2.2499705400872734e-20\n",
      "As the p-value 2.2499705400872734e-20 is less than the level of significance, we reject the null hypothesis.\n"
     ]
    }
   ],
   "source": [
    "test_stat, p_value = f_oneway(w1, w2, w3)\n",
    "print('The p-value is : ', p_value)\n",
    "\n",
    "result(p_value, alpha)"
   ]
  },
  {
   "cell_type": "markdown",
   "id": "QPun4uGl6oUm",
   "metadata": {
    "id": "QPun4uGl6oUm"
   },
   "source": [
    "**Observation:** Since the p-value is less than the 5% significance level, we reject the null hypothesis. Hence, we have enough statistical evidence to say that the average no. of bike rides in different weather conditions are not equal."
   ]
  },
  {
   "cell_type": "markdown",
   "id": "1SXayIkB7xJC",
   "metadata": {
    "id": "1SXayIkB7xJC"
   },
   "source": [
    "---\n",
    "### Ques. 4 - Is the demand of bicycles on rent same for different seasons?\n",
    "---"
   ]
  },
  {
   "cell_type": "markdown",
   "id": "z5AYFH4o70iF",
   "metadata": {
    "id": "z5AYFH4o70iF"
   },
   "source": [
    "#### **Step 1:** Define the null and alternate hypothesis\n",
    "\n",
    "$H_0:$ The average no. of bike rides in different seasons  are equal.\n",
    "\n",
    "$H_a:$ The average no. of bike rides in different seasons are not equal."
   ]
  },
  {
   "cell_type": "markdown",
   "id": "va12TtijWj5c",
   "metadata": {
    "id": "va12TtijWj5c"
   },
   "source": [
    "#### **Step 2:** Select an appropriate test"
   ]
  },
  {
   "cell_type": "code",
   "execution_count": null,
   "id": "f9e38889",
   "metadata": {
    "id": "f9e38889"
   },
   "outputs": [],
   "source": [
    "s1 = dfn[dfn['season'] == 1]['count'].sample(2399)\n",
    "s2 = dfn[dfn['season'] == 2]['count'].sample(2399)\n",
    "s3 = dfn[dfn['season'] == 3]['count'].sample(2399)\n",
    "s4 = dfn[dfn['season'] == 3]['count'].sample(2399)"
   ]
  },
  {
   "cell_type": "code",
   "execution_count": null,
   "id": "RiwyjP_HcRc-",
   "metadata": {
    "colab": {
     "base_uri": "https://localhost:8080/",
     "height": 204
    },
    "id": "RiwyjP_HcRc-",
    "outputId": "3f513245-bbc4-4281-9ee1-e067cac1d1e9"
   },
   "outputs": [
    {
     "data": {
      "text/html": [
       "\n",
       "  <div id=\"df-9a832c00-31d5-45e0-ae10-59b48ec34224\">\n",
       "    <div class=\"colab-df-container\">\n",
       "      <div>\n",
       "<style scoped>\n",
       "    .dataframe tbody tr th:only-of-type {\n",
       "        vertical-align: middle;\n",
       "    }\n",
       "\n",
       "    .dataframe tbody tr th {\n",
       "        vertical-align: top;\n",
       "    }\n",
       "\n",
       "    .dataframe thead th {\n",
       "        text-align: right;\n",
       "    }\n",
       "</style>\n",
       "<table border=\"1\" class=\"dataframe\">\n",
       "  <thead>\n",
       "    <tr style=\"text-align: right;\">\n",
       "      <th></th>\n",
       "      <th>count</th>\n",
       "      <th>mean</th>\n",
       "      <th>std</th>\n",
       "      <th>min</th>\n",
       "      <th>25%</th>\n",
       "      <th>50%</th>\n",
       "      <th>75%</th>\n",
       "      <th>max</th>\n",
       "    </tr>\n",
       "    <tr>\n",
       "      <th>season</th>\n",
       "      <th></th>\n",
       "      <th></th>\n",
       "      <th></th>\n",
       "      <th></th>\n",
       "      <th></th>\n",
       "      <th></th>\n",
       "      <th></th>\n",
       "      <th></th>\n",
       "    </tr>\n",
       "  </thead>\n",
       "  <tbody>\n",
       "    <tr>\n",
       "      <th>1</th>\n",
       "      <td>2685.0</td>\n",
       "      <td>116.325512</td>\n",
       "      <td>125.293931</td>\n",
       "      <td>1.0</td>\n",
       "      <td>24.0</td>\n",
       "      <td>78.0</td>\n",
       "      <td>164.0</td>\n",
       "      <td>801.0</td>\n",
       "    </tr>\n",
       "    <tr>\n",
       "      <th>2</th>\n",
       "      <td>2733.0</td>\n",
       "      <td>215.251372</td>\n",
       "      <td>192.007843</td>\n",
       "      <td>1.0</td>\n",
       "      <td>49.0</td>\n",
       "      <td>172.0</td>\n",
       "      <td>321.0</td>\n",
       "      <td>873.0</td>\n",
       "    </tr>\n",
       "    <tr>\n",
       "      <th>3</th>\n",
       "      <td>2733.0</td>\n",
       "      <td>234.417124</td>\n",
       "      <td>197.151001</td>\n",
       "      <td>1.0</td>\n",
       "      <td>68.0</td>\n",
       "      <td>195.0</td>\n",
       "      <td>347.0</td>\n",
       "      <td>977.0</td>\n",
       "    </tr>\n",
       "    <tr>\n",
       "      <th>4</th>\n",
       "      <td>2734.0</td>\n",
       "      <td>198.988296</td>\n",
       "      <td>177.622409</td>\n",
       "      <td>1.0</td>\n",
       "      <td>51.0</td>\n",
       "      <td>161.0</td>\n",
       "      <td>294.0</td>\n",
       "      <td>948.0</td>\n",
       "    </tr>\n",
       "  </tbody>\n",
       "</table>\n",
       "</div>\n",
       "      <button class=\"colab-df-convert\" onclick=\"convertToInteractive('df-9a832c00-31d5-45e0-ae10-59b48ec34224')\"\n",
       "              title=\"Convert this dataframe to an interactive table.\"\n",
       "              style=\"display:none;\">\n",
       "        \n",
       "  <svg xmlns=\"http://www.w3.org/2000/svg\" height=\"24px\"viewBox=\"0 0 24 24\"\n",
       "       width=\"24px\">\n",
       "    <path d=\"M0 0h24v24H0V0z\" fill=\"none\"/>\n",
       "    <path d=\"M18.56 5.44l.94 2.06.94-2.06 2.06-.94-2.06-.94-.94-2.06-.94 2.06-2.06.94zm-11 1L8.5 8.5l.94-2.06 2.06-.94-2.06-.94L8.5 2.5l-.94 2.06-2.06.94zm10 10l.94 2.06.94-2.06 2.06-.94-2.06-.94-.94-2.06-.94 2.06-2.06.94z\"/><path d=\"M17.41 7.96l-1.37-1.37c-.4-.4-.92-.59-1.43-.59-.52 0-1.04.2-1.43.59L10.3 9.45l-7.72 7.72c-.78.78-.78 2.05 0 2.83L4 21.41c.39.39.9.59 1.41.59.51 0 1.02-.2 1.41-.59l7.78-7.78 2.81-2.81c.8-.78.8-2.07 0-2.86zM5.41 20L4 18.59l7.72-7.72 1.47 1.35L5.41 20z\"/>\n",
       "  </svg>\n",
       "      </button>\n",
       "      \n",
       "  <style>\n",
       "    .colab-df-container {\n",
       "      display:flex;\n",
       "      flex-wrap:wrap;\n",
       "      gap: 12px;\n",
       "    }\n",
       "\n",
       "    .colab-df-convert {\n",
       "      background-color: #E8F0FE;\n",
       "      border: none;\n",
       "      border-radius: 50%;\n",
       "      cursor: pointer;\n",
       "      display: none;\n",
       "      fill: #1967D2;\n",
       "      height: 32px;\n",
       "      padding: 0 0 0 0;\n",
       "      width: 32px;\n",
       "    }\n",
       "\n",
       "    .colab-df-convert:hover {\n",
       "      background-color: #E2EBFA;\n",
       "      box-shadow: 0px 1px 2px rgba(60, 64, 67, 0.3), 0px 1px 3px 1px rgba(60, 64, 67, 0.15);\n",
       "      fill: #174EA6;\n",
       "    }\n",
       "\n",
       "    [theme=dark] .colab-df-convert {\n",
       "      background-color: #3B4455;\n",
       "      fill: #D2E3FC;\n",
       "    }\n",
       "\n",
       "    [theme=dark] .colab-df-convert:hover {\n",
       "      background-color: #434B5C;\n",
       "      box-shadow: 0px 1px 3px 1px rgba(0, 0, 0, 0.15);\n",
       "      filter: drop-shadow(0px 1px 2px rgba(0, 0, 0, 0.3));\n",
       "      fill: #FFFFFF;\n",
       "    }\n",
       "  </style>\n",
       "\n",
       "      <script>\n",
       "        const buttonEl =\n",
       "          document.querySelector('#df-9a832c00-31d5-45e0-ae10-59b48ec34224 button.colab-df-convert');\n",
       "        buttonEl.style.display =\n",
       "          google.colab.kernel.accessAllowed ? 'block' : 'none';\n",
       "\n",
       "        async function convertToInteractive(key) {\n",
       "          const element = document.querySelector('#df-9a832c00-31d5-45e0-ae10-59b48ec34224');\n",
       "          const dataTable =\n",
       "            await google.colab.kernel.invokeFunction('convertToInteractive',\n",
       "                                                     [key], {});\n",
       "          if (!dataTable) return;\n",
       "\n",
       "          const docLinkHtml = 'Like what you see? Visit the ' +\n",
       "            '<a target=\"_blank\" href=https://colab.research.google.com/notebooks/data_table.ipynb>data table notebook</a>'\n",
       "            + ' to learn more about interactive tables.';\n",
       "          element.innerHTML = '';\n",
       "          dataTable['output_type'] = 'display_data';\n",
       "          await google.colab.output.renderOutput(dataTable, element);\n",
       "          const docLink = document.createElement('div');\n",
       "          docLink.innerHTML = docLinkHtml;\n",
       "          element.appendChild(docLink);\n",
       "        }\n",
       "      </script>\n",
       "    </div>\n",
       "  </div>\n",
       "  "
      ],
      "text/plain": [
       "         count        mean         std  min   25%    50%    75%    max\n",
       "season                                                                \n",
       "1       2685.0  116.325512  125.293931  1.0  24.0   78.0  164.0  801.0\n",
       "2       2733.0  215.251372  192.007843  1.0  49.0  172.0  321.0  873.0\n",
       "3       2733.0  234.417124  197.151001  1.0  68.0  195.0  347.0  977.0\n",
       "4       2734.0  198.988296  177.622409  1.0  51.0  161.0  294.0  948.0"
      ]
     },
     "execution_count": 39,
     "metadata": {},
     "output_type": "execute_result"
    }
   ],
   "source": [
    "dfn.groupby(['season'])['count'].describe()"
   ]
  },
  {
   "cell_type": "markdown",
   "id": "YRSX_VZwd38M",
   "metadata": {
    "id": "YRSX_VZwd38M"
   },
   "source": [
    "#### **Step 3:** Decide the significance level\n",
    "\n",
    "The significance level (α) is already set to 5% i.e., 0.05"
   ]
  },
  {
   "cell_type": "markdown",
   "id": "KuzMqpQOeEJN",
   "metadata": {
    "id": "KuzMqpQOeEJN"
   },
   "source": [
    "#### **Step 4:** Calculate the p-value"
   ]
  },
  {
   "cell_type": "markdown",
   "id": "lP3zlNPBcrFe",
   "metadata": {
    "id": "lP3zlNPBcrFe"
   },
   "source": [
    "We have already performed tests for normality and homogeneity of variance. So we will be directly moving onto the One-way ANOVA test."
   ]
  },
  {
   "cell_type": "code",
   "execution_count": null,
   "id": "Slorvd1nca3s",
   "metadata": {
    "colab": {
     "base_uri": "https://localhost:8080/"
    },
    "id": "Slorvd1nca3s",
    "outputId": "fa1c9411-cca4-47aa-a8d2-7cf876914f8e"
   },
   "outputs": [
    {
     "name": "stdout",
     "output_type": "stream",
     "text": [
      "The p-value is :  1.6353629703459499e-147\n",
      "As the p-value 1.6353629703459499e-147 is less than the level of significance, we reject the null hypothesis.\n"
     ]
    }
   ],
   "source": [
    "test_stat, p_value = f_oneway(s1, s2, s3, s4)\n",
    "print('The p-value is : ', p_value)\n",
    "\n",
    "result(p_value, alpha)"
   ]
  },
  {
   "cell_type": "markdown",
   "id": "oSKIgBd2dOlF",
   "metadata": {
    "id": "oSKIgBd2dOlF"
   },
   "source": [
    "**Observation:** Since the p-value is less than the 5% significance level, we reject the null hypothesis. Hence, we have enough statistical evidence to say that the average no. of bike rides in different seasons are not equal."
   ]
  },
  {
   "cell_type": "markdown",
   "id": "dgw9PRdN2nO1",
   "metadata": {
    "id": "dgw9PRdN2nO1"
   },
   "source": [
    "**Ques.** How does the increase in sample size affect hypothesis testing?\n",
    "\n",
    "**Ans.** Increasing sample size makes the hypothesis test more sensitive, more likely to reject the null hypothesis when it is, in fact, false. Thus, it increases the power of the test."
   ]
  },
  {
   "cell_type": "markdown",
   "id": "Hlpw6E1Ax4DF",
   "metadata": {
    "id": "Hlpw6E1Ax4DF"
   },
   "source": [
    "---\n",
    "### Ques. 5 -  Are the weather conditions significantly different during different seasons? \n",
    "---\n",
    "\n"
   ]
  },
  {
   "cell_type": "markdown",
   "id": "QUUxs46oyU-0",
   "metadata": {
    "id": "QUUxs46oyU-0"
   },
   "source": [
    "#### **Step 1:** Define the null and alternate hypothesis\n",
    "\n",
    "$H_0:$ Weather conditions are independent of the season.\n",
    "\n",
    "$H_a:$ Weather condition depends on the ongoing season."
   ]
  },
  {
   "cell_type": "markdown",
   "id": "WRO22nl1yp8P",
   "metadata": {
    "id": "WRO22nl1yp8P"
   },
   "source": [
    "#### **Step 2:** Select an appropriate test"
   ]
  },
  {
   "cell_type": "markdown",
   "id": "4gTA8q9zytYx",
   "metadata": {
    "id": "4gTA8q9zytYx"
   },
   "source": [
    "Although the data values in 'season' and 'weather' columns are numerical, as per our intuition, they still represent different catgories. Hence, we will encode them accordingly before moving onto the tests."
   ]
  },
  {
   "cell_type": "code",
   "execution_count": null,
   "id": "AhDiAHS_dGKo",
   "metadata": {
    "id": "AhDiAHS_dGKo"
   },
   "outputs": [],
   "source": [
    "dict1 = {1: 'Sunny',\n",
    "         2: 'Cloudy',\n",
    "         3: 'Rainy'}\n",
    "dfn['weather_enc'] = dfn['weather'].map(dict1)"
   ]
  },
  {
   "cell_type": "code",
   "execution_count": null,
   "id": "rxpmB3jyz34m",
   "metadata": {
    "id": "rxpmB3jyz34m"
   },
   "outputs": [],
   "source": [
    "dict2 = {1: 'Summer',\n",
    "         2: 'Monsoon',\n",
    "         3: 'Winter',\n",
    "         4: 'Autumn'}\n",
    "dfn['season_enc'] = dfn['season'].map(dict2)"
   ]
  },
  {
   "cell_type": "markdown",
   "id": "oNSETDmy1Myv",
   "metadata": {
    "id": "oNSETDmy1Myv"
   },
   "source": [
    "Here we will be comparing two different categorical variables, 'season' and 'weather'. So will perform a **Chi-square test**."
   ]
  },
  {
   "cell_type": "code",
   "execution_count": null,
   "id": "TUdiwEs40vOL",
   "metadata": {
    "colab": {
     "base_uri": "https://localhost:8080/",
     "height": 204
    },
    "id": "TUdiwEs40vOL",
    "outputId": "4d8175fd-85c2-4aaf-9e89-abd438d91289"
   },
   "outputs": [
    {
     "data": {
      "text/html": [
       "\n",
       "  <div id=\"df-0aca4eb7-4f50-460f-b21b-dda3429b995f\">\n",
       "    <div class=\"colab-df-container\">\n",
       "      <div>\n",
       "<style scoped>\n",
       "    .dataframe tbody tr th:only-of-type {\n",
       "        vertical-align: middle;\n",
       "    }\n",
       "\n",
       "    .dataframe tbody tr th {\n",
       "        vertical-align: top;\n",
       "    }\n",
       "\n",
       "    .dataframe thead th {\n",
       "        text-align: right;\n",
       "    }\n",
       "</style>\n",
       "<table border=\"1\" class=\"dataframe\">\n",
       "  <thead>\n",
       "    <tr style=\"text-align: right;\">\n",
       "      <th>weather_enc</th>\n",
       "      <th>Cloudy</th>\n",
       "      <th>Rainy</th>\n",
       "      <th>Sunny</th>\n",
       "    </tr>\n",
       "    <tr>\n",
       "      <th>season_enc</th>\n",
       "      <th></th>\n",
       "      <th></th>\n",
       "      <th></th>\n",
       "    </tr>\n",
       "  </thead>\n",
       "  <tbody>\n",
       "    <tr>\n",
       "      <th>Autumn</th>\n",
       "      <td>807</td>\n",
       "      <td>225</td>\n",
       "      <td>1702</td>\n",
       "    </tr>\n",
       "    <tr>\n",
       "      <th>Monsoon</th>\n",
       "      <td>708</td>\n",
       "      <td>224</td>\n",
       "      <td>1801</td>\n",
       "    </tr>\n",
       "    <tr>\n",
       "      <th>Summer</th>\n",
       "      <td>715</td>\n",
       "      <td>211</td>\n",
       "      <td>1759</td>\n",
       "    </tr>\n",
       "    <tr>\n",
       "      <th>Winter</th>\n",
       "      <td>604</td>\n",
       "      <td>199</td>\n",
       "      <td>1930</td>\n",
       "    </tr>\n",
       "  </tbody>\n",
       "</table>\n",
       "</div>\n",
       "      <button class=\"colab-df-convert\" onclick=\"convertToInteractive('df-0aca4eb7-4f50-460f-b21b-dda3429b995f')\"\n",
       "              title=\"Convert this dataframe to an interactive table.\"\n",
       "              style=\"display:none;\">\n",
       "        \n",
       "  <svg xmlns=\"http://www.w3.org/2000/svg\" height=\"24px\"viewBox=\"0 0 24 24\"\n",
       "       width=\"24px\">\n",
       "    <path d=\"M0 0h24v24H0V0z\" fill=\"none\"/>\n",
       "    <path d=\"M18.56 5.44l.94 2.06.94-2.06 2.06-.94-2.06-.94-.94-2.06-.94 2.06-2.06.94zm-11 1L8.5 8.5l.94-2.06 2.06-.94-2.06-.94L8.5 2.5l-.94 2.06-2.06.94zm10 10l.94 2.06.94-2.06 2.06-.94-2.06-.94-.94-2.06-.94 2.06-2.06.94z\"/><path d=\"M17.41 7.96l-1.37-1.37c-.4-.4-.92-.59-1.43-.59-.52 0-1.04.2-1.43.59L10.3 9.45l-7.72 7.72c-.78.78-.78 2.05 0 2.83L4 21.41c.39.39.9.59 1.41.59.51 0 1.02-.2 1.41-.59l7.78-7.78 2.81-2.81c.8-.78.8-2.07 0-2.86zM5.41 20L4 18.59l7.72-7.72 1.47 1.35L5.41 20z\"/>\n",
       "  </svg>\n",
       "      </button>\n",
       "      \n",
       "  <style>\n",
       "    .colab-df-container {\n",
       "      display:flex;\n",
       "      flex-wrap:wrap;\n",
       "      gap: 12px;\n",
       "    }\n",
       "\n",
       "    .colab-df-convert {\n",
       "      background-color: #E8F0FE;\n",
       "      border: none;\n",
       "      border-radius: 50%;\n",
       "      cursor: pointer;\n",
       "      display: none;\n",
       "      fill: #1967D2;\n",
       "      height: 32px;\n",
       "      padding: 0 0 0 0;\n",
       "      width: 32px;\n",
       "    }\n",
       "\n",
       "    .colab-df-convert:hover {\n",
       "      background-color: #E2EBFA;\n",
       "      box-shadow: 0px 1px 2px rgba(60, 64, 67, 0.3), 0px 1px 3px 1px rgba(60, 64, 67, 0.15);\n",
       "      fill: #174EA6;\n",
       "    }\n",
       "\n",
       "    [theme=dark] .colab-df-convert {\n",
       "      background-color: #3B4455;\n",
       "      fill: #D2E3FC;\n",
       "    }\n",
       "\n",
       "    [theme=dark] .colab-df-convert:hover {\n",
       "      background-color: #434B5C;\n",
       "      box-shadow: 0px 1px 3px 1px rgba(0, 0, 0, 0.15);\n",
       "      filter: drop-shadow(0px 1px 2px rgba(0, 0, 0, 0.3));\n",
       "      fill: #FFFFFF;\n",
       "    }\n",
       "  </style>\n",
       "\n",
       "      <script>\n",
       "        const buttonEl =\n",
       "          document.querySelector('#df-0aca4eb7-4f50-460f-b21b-dda3429b995f button.colab-df-convert');\n",
       "        buttonEl.style.display =\n",
       "          google.colab.kernel.accessAllowed ? 'block' : 'none';\n",
       "\n",
       "        async function convertToInteractive(key) {\n",
       "          const element = document.querySelector('#df-0aca4eb7-4f50-460f-b21b-dda3429b995f');\n",
       "          const dataTable =\n",
       "            await google.colab.kernel.invokeFunction('convertToInteractive',\n",
       "                                                     [key], {});\n",
       "          if (!dataTable) return;\n",
       "\n",
       "          const docLinkHtml = 'Like what you see? Visit the ' +\n",
       "            '<a target=\"_blank\" href=https://colab.research.google.com/notebooks/data_table.ipynb>data table notebook</a>'\n",
       "            + ' to learn more about interactive tables.';\n",
       "          element.innerHTML = '';\n",
       "          dataTable['output_type'] = 'display_data';\n",
       "          await google.colab.output.renderOutput(dataTable, element);\n",
       "          const docLink = document.createElement('div');\n",
       "          docLink.innerHTML = docLinkHtml;\n",
       "          element.appendChild(docLink);\n",
       "        }\n",
       "      </script>\n",
       "    </div>\n",
       "  </div>\n",
       "  "
      ],
      "text/plain": [
       "weather_enc  Cloudy  Rainy  Sunny\n",
       "season_enc                       \n",
       "Autumn          807    225   1702\n",
       "Monsoon         708    224   1801\n",
       "Summer          715    211   1759\n",
       "Winter          604    199   1930"
      ]
     },
     "execution_count": 43,
     "metadata": {},
     "output_type": "execute_result"
    }
   ],
   "source": [
    "contigency= pd.crosstab(dfn.season_enc, dfn.weather_enc)\n",
    "contigency"
   ]
  },
  {
   "cell_type": "code",
   "execution_count": null,
   "id": "ziL0jH6g2Hwa",
   "metadata": {
    "colab": {
     "base_uri": "https://localhost:8080/",
     "height": 342
    },
    "id": "ziL0jH6g2Hwa",
    "outputId": "90ec1943-0356-4f33-b1d1-31e523457b80"
   },
   "outputs": [
    {
     "data": {
      "text/plain": [
       "<matplotlib.axes._subplots.AxesSubplot at 0x7fcb851ac650>"
      ]
     },
     "execution_count": 44,
     "metadata": {},
     "output_type": "execute_result"
    },
    {
     "data": {
      "image/png": "[encoded data removed]",
      "text/plain": [
       "<Figure size 432x288 with 1 Axes>"
      ]
     },
     "metadata": {},
     "output_type": "display_data"
    }
   ],
   "source": [
    "contigency.plot(kind='bar')"
   ]
  },
  {
   "cell_type": "markdown",
   "id": "HSpuLFg51n5z",
   "metadata": {
    "id": "HSpuLFg51n5z"
   },
   "source": [
    "#### **Step 3:** Decide the significance level\n",
    "\n",
    "The significance level (α) is already set to 5% i.e., 0.05"
   ]
  },
  {
   "cell_type": "markdown",
   "id": "hVqApkVB2s56",
   "metadata": {
    "id": "hVqApkVB2s56"
   },
   "source": [
    "#### **Step 4:** Calculate the p-value"
   ]
  },
  {
   "cell_type": "code",
   "execution_count": null,
   "id": "OMb37Jx61oiT",
   "metadata": {
    "colab": {
     "base_uri": "https://localhost:8080/"
    },
    "id": "OMb37Jx61oiT",
    "outputId": "585df1f6-965e-4067-fc61-bf8d25cfd2f3"
   },
   "outputs": [
    {
     "name": "stdout",
     "output_type": "stream",
     "text": [
      "Chi-square Statistic: 46.10145731073249 \n",
      " P-value: 2.8260014509929343e-08 \n",
      " Degree of Freedom: 6 \n",
      " Expected Frequencies: [[ 711.81956821  215.75617823 1806.42425356]\n",
      " [ 711.55920992  215.67726229 1805.76352779]\n",
      " [ 699.06201194  211.8892972  1774.04869086]\n",
      " [ 711.55920992  215.67726229 1805.76352779]]\n"
     ]
    }
   ],
   "source": [
    "chi2, pval, dof, exp_freq = chi2_contingency(contigency, correction=False)\n",
    "print('Chi-square Statistic: {} \\n P-value: {} \\n Degree of Freedom: {} \\n Expected Frequencies: {}'.format(chi2, pval, dof, exp_freq))"
   ]
  },
  {
   "cell_type": "code",
   "execution_count": null,
   "id": "QzWP8tA53AaU",
   "metadata": {
    "colab": {
     "base_uri": "https://localhost:8080/"
    },
    "id": "QzWP8tA53AaU",
    "outputId": "fccdd654-56a8-45cc-9869-f6c5d129ed33"
   },
   "outputs": [
    {
     "name": "stdout",
     "output_type": "stream",
     "text": [
      "As the p-value 2.8260014509929343e-08 is less than the level of significance, we reject the null hypothesis.\n"
     ]
    }
   ],
   "source": [
    "result(pval, alpha)"
   ]
  },
  {
   "cell_type": "markdown",
   "id": "iK_PV2gN3p4k",
   "metadata": {
    "id": "iK_PV2gN3p4k"
   },
   "source": [
    "**Observation:** Since the p-value is less than the 5% significance level, we reject the null hypothesis. Hence, we have enough statistical evidence to say that the weather conditions are dependent on the ongoing season."
   ]
  },
  {
   "cell_type": "markdown",
   "id": "ppdVuxg_-n4g",
   "metadata": {
    "id": "ppdVuxg_-n4g"
   },
   "source": [
    "### Insights and Recommendations"
   ]
  },
  {
   "cell_type": "markdown",
   "id": "r2MPKT9d-tDG",
   "metadata": {
    "id": "r2MPKT9d-tDG"
   },
   "source": [
    "#### **EDA based insights -**\n",
    "\n",
    "1. Total 10,886 rows were present in the data set.\n",
    "2. Neither missing values, nor duplicate rows were found.\n",
    "3. 'temp' and 'atemp' columns were found to be highly correlated. </br> Dropping one of them (atemp) to avoid multicollinearity.\n",
    "4. 'count', 'casual' and 'registered' columns were highly correlated. </br> Dropping casual & registered columns to avoid multicollinearity.\n",
    "5. Outlier values were found in the 'count' column.\n",
    "\n",
    "#### **Insights from hypothesis testing -**\n",
    "1. The no. of bikes rented on weekdays is comparatively higher than on weekends.\n",
    "2. The no. of bikes rented on regular days is comparatively higher than on holidays.\n",
    "2. The demand of bicycles on rent differs under different weather conditions.\n",
    "3. The demand of bicycles on rent is different during different seasons.\n",
    "4. The weather conditions are surely dependent upon the ongoing season. \n",
    "\n",
    "#### **Miscellaneous observations -**\n",
    "The distribution of 'count' column wasn't actually normal or near normal. </br> Infact the column's distribution is found to be a bit skewed towards right. \n",
    "\n",
    "#### **Generic recommendations -**\n",
    "\n",
    "* The demand of bikes on rent are usually higher during Weekdays.\n",
    "* The demand of bikes on rent are usually higher during Regular days. \n",
    "* The chances of person renting a bike are usually higher during Season 3.\n",
    "* The chances of person renting a bike are usually higher during Weather condition 1.\n",
    "\n",
    "We recommend the company to maintain the bike stocks accordingly. \n",
    "\n"
   ]
  },
  {
   "cell_type": "code",
   "execution_count": null,
   "id": "AdiRKX7OXy1p",
   "metadata": {
    "id": "AdiRKX7OXy1p"
   },
   "outputs": [],
   "source": []
  }
 ],
 "metadata": {
  "colab": {
   "provenance": []
  },
  "kernelspec": {
   "display_name": "Python 3 (ipykernel)",
   "language": "python",
   "name": "python3"
  },
  "language_info": {
   "codemirror_mode": {
    "name": "ipython",
    "version": 3
   },
   "file_extension": ".py",
   "mimetype": "text/x-python",
   "name": "python",
   "nbconvert_exporter": "python",
   "pygments_lexer": "ipython3",
   "version": "3.9.12"
  }
 },
 "nbformat": 4,
 "nbformat_minor": 5
}
